{
 "cells": [
  {
   "cell_type": "markdown",
   "id": "e15dd364",
   "metadata": {},
   "source": [
    "### Q1. What advantages do Excel spreadsheets have over CSV spreadsheets?"
   ]
  },
  {
   "cell_type": "markdown",
   "id": "994ff4ff",
   "metadata": {},
   "source": [
    "### Ans1\n",
    "- Excel files can contain multiple sheets, while CSV files are limited to a single sheet.\n",
    "-  Excel allows you to include formulas and complex functions within cells, which are not possible in CSV.\n",
    "- Excel allows you to create graphs and charts directly from the data, which CSV does not support."
   ]
  },
  {
   "cell_type": "markdown",
   "id": "41fe25c4",
   "metadata": {},
   "source": [
    "### Q2.What do you pass to csv.reader() and csv.writer() to create reader and writer objects?"
   ]
  },
  {
   "cell_type": "markdown",
   "id": "67215c2f",
   "metadata": {},
   "source": [
    "### Ans2.\n",
    "- For 'csv.reader()', you pass a file object. (opened in read mode).\n",
    "\n",
    "csv_reader = csv.reader(file_object)\n",
    "\n",
    "- For 'csv.writer()', you pass a file object. (opened in write mode).\n",
    "\n",
    "csv_writer = csv.writer(file_object)\n"
   ]
  },
  {
   "cell_type": "markdown",
   "id": "9e28244b",
   "metadata": {},
   "source": [
    "### Q3. What modes do File objects for reader and writer objects need to be opened in?"
   ]
  },
  {
   "cell_type": "markdown",
   "id": "8fe88576",
   "metadata": {},
   "source": [
    "### Ans3. \n",
    "- For 'csv.reader()', the file object should be opened in read mode ('r').\n",
    "- For 'csv.writer()', the file object should be opened in write mode ('w')."
   ]
  },
  {
   "cell_type": "markdown",
   "id": "b92863cb",
   "metadata": {},
   "source": [
    "### Q4. What method takes a list argument and writes it to a CSV file?"
   ]
  },
  {
   "cell_type": "markdown",
   "id": "cbfdcc0c",
   "metadata": {},
   "source": [
    "### Ans4. \n",
    "The 'writerow()' method of a csv.writer object takes a list argument and writes it to a CSV file.\n",
    "\n",
    "csv_writer.writerow(['example', 'data', 'here'])\n"
   ]
  },
  {
   "cell_type": "markdown",
   "id": "a3a47809",
   "metadata": {},
   "source": [
    "### Q5. What do the keyword arguments delimiter and line terminator do?"
   ]
  },
  {
   "cell_type": "markdown",
   "id": "bd6c0c7e",
   "metadata": {},
   "source": [
    "### Ans5.\n",
    "- 'Delimiter': Specifies the character that separates values in the CSV file. For example, 'delimiter=','' specifies that the values are separated by commas.\n",
    "- 'line terminator': Specifies the character sequence that should be used to terminate lines in the CSV file. For example, 'line terminator='\\n'' specifies a newline character as the line terminator."
   ]
  },
  {
   "cell_type": "markdown",
   "id": "34deb55f",
   "metadata": {},
   "source": [
    "### Q6. What function takes a string of JSON data and returns a Python data structure?"
   ]
  },
  {
   "cell_type": "markdown",
   "id": "d6359ecc",
   "metadata": {},
   "source": [
    "### Ans6.\n",
    "The 'json.loads()' function takes a string of JSON data and returns a Python data structure (such as a dictionary or list)."
   ]
  },
  {
   "cell_type": "code",
   "execution_count": null,
   "id": "7da423ba",
   "metadata": {},
   "outputs": [],
   "source": [
    "import json\n",
    "python_data = json.loads(json_string)\n"
   ]
  },
  {
   "cell_type": "markdown",
   "id": "2536fb59",
   "metadata": {},
   "source": [
    "### Q7. What function takes a Python data structure and returns a string of JSON data?"
   ]
  },
  {
   "cell_type": "markdown",
   "id": "129f869d",
   "metadata": {},
   "source": [
    "### Ans7.\n",
    "The 'json.dumps()' function takes a Python data structure and returns a string of JSON data.\n",
    "\n"
   ]
  },
  {
   "cell_type": "code",
   "execution_count": null,
   "id": "c3dd8bad",
   "metadata": {},
   "outputs": [],
   "source": [
    "json_string = json.dumps(python_data)\n"
   ]
  }
 ],
 "metadata": {
  "kernelspec": {
   "display_name": "Python 3 (ipykernel)",
   "language": "python",
   "name": "python3"
  },
  "language_info": {
   "codemirror_mode": {
    "name": "ipython",
    "version": 3
   },
   "file_extension": ".py",
   "mimetype": "text/x-python",
   "name": "python",
   "nbconvert_exporter": "python",
   "pygments_lexer": "ipython3",
   "version": "3.9.13"
  }
 },
 "nbformat": 4,
 "nbformat_minor": 5
}
