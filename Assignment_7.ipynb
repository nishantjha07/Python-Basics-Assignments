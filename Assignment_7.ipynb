{
 "cells": [
  {
   "cell_type": "markdown",
   "id": "e4219377",
   "metadata": {},
   "source": [
    "### Q1. What is the name of the feature responsible for generating Regex objects?"
   ]
  },
  {
   "cell_type": "markdown",
   "id": "6d391bac",
   "metadata": {},
   "source": [
    "### Ans1. \n",
    "Regular expression is the name of the feature responsible for generationg Regex objects. \n",
    "\n",
    "To generate a Regex object (or a compiled regular expression), you would use the re.compile() function from the 're' module."
   ]
  },
  {
   "cell_type": "markdown",
   "id": "84914409",
   "metadata": {},
   "source": [
    "### Q2. Why do raw strings often appear in Regex objects?"
   ]
  },
  {
   "cell_type": "markdown",
   "id": "24f720e9",
   "metadata": {},
   "source": [
    "### Ans2. \n",
    "Raw strings often appear in Regex objects because they prevent the need to escape backslashes, which are commonly used in regex patterns."
   ]
  },
  {
   "cell_type": "markdown",
   "id": "e525512b",
   "metadata": {},
   "source": [
    "### Q3. What is the return value of the search() method?"
   ]
  },
  {
   "cell_type": "markdown",
   "id": "39af291a",
   "metadata": {},
   "source": [
    "### Ans3. \n",
    "It depends on whether a match is found in the string being searched:\n",
    "\n",
    "- 1. If a match is found: The method returns a match object, which is an instance of 're.Match'.\n",
    "- 2. If a match is not found: 'None'.\n"
   ]
  },
  {
   "cell_type": "markdown",
   "id": "1fddbdca",
   "metadata": {},
   "source": [
    "### Q4. From a Match item, how do you get the actual strings that match the pattern?"
   ]
  },
  {
   "cell_type": "markdown",
   "id": "a0495561",
   "metadata": {},
   "source": [
    "### Ans4. \n",
    "We can use the 'group()' method on the matach object to get actual strings pattern."
   ]
  },
  {
   "cell_type": "markdown",
   "id": "688bff55",
   "metadata": {},
   "source": [
    "### Q5. In the regex which created from the r'(\\d\\d\\d)-(\\d\\d\\d-\\d\\d\\d\\d)', what does group zero cover? Group 2? Group 1?"
   ]
  },
  {
   "cell_type": "markdown",
   "id": "c6173c8e",
   "metadata": {},
   "source": [
    "### Ans5.\n",
    "- Group 0 covers the entire match\n",
    "- Group 1 covers the first set of didgits(\\d\\d\\d).\n",
    "- Group 2 covers the second set of digits(\\d\\d\\d-\\d\\d\\d\\d)."
   ]
  },
  {
   "cell_type": "markdown",
   "id": "8dec754a",
   "metadata": {},
   "source": [
    "### Q6. In standard expression syntax, parentheses and intervals have distinct meanings. How can you tell a regex that you want it to fit real parentheses and periods?"
   ]
  },
  {
   "cell_type": "markdown",
   "id": "315b70d2",
   "metadata": {},
   "source": [
    "### Ans6. \n",
    "In standard expression syntax, parentheses and intervals have distinct meanings.\n",
    " To match literal parentheses and periods in regex, you need to escape them with backlash: (,),.\n",
    "\n",
    "To match '(' => use '\\('.\n",
    "\n",
    "similarly\n",
    "\n",
    "To match ')'  => use'\\)'.\n",
    "\n",
    "To match'.' => use'\\.' ."
   ]
  },
  {
   "cell_type": "markdown",
   "id": "1bd74bd5",
   "metadata": {},
   "source": [
    "### Q7. The findall() method returns a string list or a list of string tuples. What causes it to return one of the two options?"
   ]
  },
  {
   "cell_type": "markdown",
   "id": "66056b47",
   "metadata": {},
   "source": [
    "### Ans7. \n",
    "The findall() method returns a list of strings if the regex has no groups, but it returns a list of tuples if the regex has groups."
   ]
  },
  {
   "cell_type": "markdown",
   "id": "bec56ae8",
   "metadata": {},
   "source": [
    "### Q8. In standard expressions, what does the | character mean?"
   ]
  },
  {
   "cell_type": "markdown",
   "id": "fcfa67b3",
   "metadata": {},
   "source": [
    "### Ans8.\n",
    "- '|' is known as alternation operator or pipe.\n",
    "-   it functions like a logical \"OR\" operator meaning it matches patterns on either side of it."
   ]
  },
  {
   "cell_type": "markdown",
   "id": "365d6985",
   "metadata": {},
   "source": [
    "### Q9. In regular expressions, what does the ? character stand for?"
   ]
  },
  {
   "cell_type": "markdown",
   "id": "8fc7b301",
   "metadata": {},
   "source": [
    "### Ans9. \n",
    "The ? character matches 0 or 1 occurrence of the preceding element, making it optional."
   ]
  },
  {
   "cell_type": "markdown",
   "id": "ccbf96dc",
   "metadata": {},
   "source": [
    "### Q10. In regular expressions, what is the difference between the + and * characters?"
   ]
  },
  {
   "cell_type": "markdown",
   "id": "19972f40",
   "metadata": {},
   "source": [
    "### Ans10. \n",
    "The '+' character matches one or more occurrences of the preceding element, while '*' matches zero or more occurrences."
   ]
  },
  {
   "cell_type": "markdown",
   "id": "11d015b0",
   "metadata": {},
   "source": [
    "### Q11. What is the difference between {4} and {4,5} in regular expression?"
   ]
  },
  {
   "cell_type": "markdown",
   "id": "4f23a36d",
   "metadata": {},
   "source": [
    "### Ans11. - \n",
    "- '{4}' : This specifies that the preceding element will have to occur exactly 4 timmes.\n",
    "- '{4,5}': This specifies that the preceding element must occur between 4 and 5 times. It will match if the element appears either 4 or 5 times."
   ]
  },
  {
   "cell_type": "markdown",
   "id": "ab4a15c7",
   "metadata": {},
   "source": [
    "### Q12. What do you mean by the \\d, \\w, and \\s shorthand character classes signify in regular expressions?"
   ]
  },
  {
   "cell_type": "markdown",
   "id": "49b3b6a4",
   "metadata": {},
   "source": [
    "### Ans12.\n",
    "- \\d :- matches any non-digit character.\n",
    "- \\w :- matches any non-word character.\n",
    "- \\s :- matches any non-whitespace character."
   ]
  },
  {
   "cell_type": "markdown",
   "id": "5504cc7a",
   "metadata": {},
   "source": [
    "### Q14. What is the difference between .? and .?"
   ]
  },
  {
   "cell_type": "markdown",
   "id": "ab735ceb",
   "metadata": {},
   "source": [
    "### Ans14.\n",
    "- .? :- It is a non-greedy match that matches as few characters as possible.\n",
    "- .  :- It is a greedy match that matches as many characters as possible."
   ]
  },
  {
   "cell_type": "markdown",
   "id": "5ea96692",
   "metadata": {},
   "source": [
    "### Q15. What is the syntax for matching both numbers and lowercase letters with a character class?"
   ]
  },
  {
   "cell_type": "markdown",
   "id": "2cea79e3",
   "metadata": {},
   "source": [
    "### Ans15. \n",
    "The syntax is [a-z0-9]."
   ]
  },
  {
   "cell_type": "markdown",
   "id": "6e389193",
   "metadata": {},
   "source": [
    "### Q16. What is the procedure for making a normal expression in regax case insensitive?"
   ]
  },
  {
   "cell_type": "markdown",
   "id": "f97240c6",
   "metadata": {},
   "source": [
    "### Ans16. \n",
    "You can make a regex case-insensitive by passing re.IGNORECASE or re.I as the second argument to re.compile()."
   ]
  },
  {
   "cell_type": "markdown",
   "id": "903499d6",
   "metadata": {},
   "source": [
    "### Q17. What does the . character normally match? What does it match if re.DOTALL is passed as 2nd argument in re.compile()?"
   ]
  },
  {
   "cell_type": "markdown",
   "id": "c10fc385",
   "metadata": {},
   "source": [
    "### Ans17.\n",
    "Normally, the '.' character matches any character except a newline. \n",
    "\n",
    "If 're.DOTALL' is passed, it matches any character, including a newline."
   ]
  },
  {
   "cell_type": "markdown",
   "id": "187eaf1b",
   "metadata": {},
   "source": [
    "### Q18. If numReg = re.compile(r'\\d+'), what will numRegex.sub('X', '11 drummers, 10 pipers, five rings, 4 hen') return?"
   ]
  },
  {
   "cell_type": "markdown",
   "id": "653c46e5",
   "metadata": {},
   "source": [
    "### Ans18.\n",
    "It will return 'X drummers X pipers five ringd X hen'."
   ]
  },
  {
   "cell_type": "markdown",
   "id": "853918ba",
   "metadata": {},
   "source": [
    "### Q19. What does passing re.VERBOSE as the 2nd argument to re.compile() allow to do?"
   ]
  },
  {
   "cell_type": "markdown",
   "id": "7d2c91b3",
   "metadata": {},
   "source": [
    "### Ans19.\n",
    "Passing 're.VERBOSE' allows you to write more readable regex patterns by ignoring whitespace and adding comments."
   ]
  },
  {
   "cell_type": "markdown",
   "id": "892b06c1",
   "metadata": {},
   "source": [
    "# Q20. How would you write a regex that match a number with comma for every three digits? It must match the given following:\n",
    "\n",
    "#### '42' \n",
    "#### '1,234' \n",
    "#### '6,368,745'\n",
    "\n",
    "but not the following:\n",
    "\n",
    "#### '12,34,567' (which has only two digits between the commas) \n",
    "#### '1234' (which lacks commas)\n",
    "\n"
   ]
  },
  {
   "cell_type": "markdown",
   "id": "f60440f5",
   "metadata": {},
   "source": [
    "### Ans20. \n",
    "The regex pattern would be:\n",
    "\n",
    "r'^\\d{1,3}(,\\d{3})*$'."
   ]
  },
  {
   "cell_type": "markdown",
   "id": "1ef9e28b",
   "metadata": {},
   "source": [
    "### Q21. How would you write a regex that matches the full name of someone whose last name is Watanabe? You can assume that the first name that comes before it will always be one word that begins with a capital letter. The regex must match the following:\n",
    "\n",
    "#### 'Haruto Watanabe' \n",
    "#### 'Alice Watanabe' \n",
    "#### 'RoboCop Watanabe'\n",
    "\n",
    "but not the following:\n",
    "\n",
    "#### 'haruto Watanabe' (where the first name is not capitalized) \n",
    "#### 'Mr. Watanabe' (where the preceding word has a nonletter character) \n",
    "#### 'Watanabe' (which has no first name) \n",
    "#### 'Haruto watanabe' (where Watanabe is not capitalized)"
   ]
  },
  {
   "cell_type": "markdown",
   "id": "c0e0499d",
   "metadata": {},
   "source": [
    "### Ans21.\n",
    "The regex patern would be:\n",
    "\n",
    "^[A-Z][a-zA-Z]*\\sWatanabe$"
   ]
  },
  {
   "cell_type": "markdown",
   "id": "79fd59b0",
   "metadata": {},
   "source": [
    "### Q22. How would you write a regex that matches a sentence where the first word is either Alice, Bob, or Carol; the second word is either eats, pets, or throws; the third word is apples, cats, or baseballs; and the sentence ends with a period? This regex should be case-insensitive. It must match the following:\n",
    "#### 'Alice eats apples.' \n",
    "#### 'Bob pets cats.' \n",
    "#### 'Carol throws baseballs.' \n",
    "#### 'Alice throws Apples.' \n",
    "#### 'BOB EATS CATS.'\n",
    "\n",
    "but not the following:\n",
    "\n",
    "#### 'RoboCop eats apples.' \n",
    "#### 'ALICE THROWS FOOTBALLS.' \n",
    "#### 'Carol eats 7 cats.'"
   ]
  },
  {
   "cell_type": "markdown",
   "id": "22bbbae2",
   "metadata": {},
   "source": [
    "### Ans22.\n",
    "he regex pattern would be:\n",
    "\n",
    "^(Alice|Bob|Carol)\\s(eats|pets|throws)\\s(apples|cats|baseballs).$"
   ]
  },
  {
   "cell_type": "code",
   "execution_count": null,
   "id": "f7054cf6",
   "metadata": {},
   "outputs": [],
   "source": []
  }
 ],
 "metadata": {
  "kernelspec": {
   "display_name": "Python 3 (ipykernel)",
   "language": "python",
   "name": "python3"
  },
  "language_info": {
   "codemirror_mode": {
    "name": "ipython",
    "version": 3
   },
   "file_extension": ".py",
   "mimetype": "text/x-python",
   "name": "python",
   "nbconvert_exporter": "python",
   "pygments_lexer": "ipython3",
   "version": "3.9.13"
  }
 },
 "nbformat": 4,
 "nbformat_minor": 5
}
