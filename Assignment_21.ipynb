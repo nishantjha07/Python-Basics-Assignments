{
 "cells": [
  {
   "cell_type": "markdown",
   "id": "3730f461-2842-4408-a0a7-02f5de7761a3",
   "metadata": {},
   "source": [
    "### Q1. Add the current date to the text file today.txt as a string."
   ]
  },
  {
   "cell_type": "markdown",
   "id": "66673535",
   "metadata": {},
   "source": [
    "### Ans1."
   ]
  },
  {
   "cell_type": "code",
   "execution_count": 1,
   "id": "d84d3580-1967-441c-b2e3-08d9456ade0e",
   "metadata": {},
   "outputs": [],
   "source": [
    "from datetime import datetime\n",
    "\n",
    "# to get the current date\n",
    "current_date = datetime.now().strftime(\"%Y-%m-%d\")\n",
    "\n",
    "# to write the current date to the file 'today.txt'\n",
    "with open(\"today.txt\", \"w\") as file:\n",
    "    file.write(current_date)\n"
   ]
  },
  {
   "cell_type": "markdown",
   "id": "d145f237-a368-4d8a-bae7-567beb8c74bf",
   "metadata": {},
   "source": [
    "### Q2. Read the text file today.txt into the string today_string"
   ]
  },
  {
   "cell_type": "markdown",
   "id": "837c4522",
   "metadata": {},
   "source": [
    "### Ans2."
   ]
  },
  {
   "cell_type": "code",
   "execution_count": 2,
   "id": "7085e577-f0c7-4cb5-bf57-24178d470758",
   "metadata": {},
   "outputs": [
    {
     "name": "stdout",
     "output_type": "stream",
     "text": [
      "2024-08-21\n"
     ]
    }
   ],
   "source": [
    "#to read the date from the file 'today.txt'\n",
    "with open(\"today.txt\", \"r\") as file:\n",
    "    today_string = file.read()\n",
    "\n",
    "print(today_string)  # Output will be the date string stored in today_string\n"
   ]
  },
  {
   "cell_type": "markdown",
   "id": "f953e332-c616-4c19-893a-e83f2641c1ff",
   "metadata": {},
   "source": [
    "### Q3. Parse the date from today_string."
   ]
  },
  {
   "cell_type": "markdown",
   "id": "16fc35e7",
   "metadata": {},
   "source": [
    "### Ans3."
   ]
  },
  {
   "cell_type": "code",
   "execution_count": 4,
   "id": "c7f83140-7f96-40c5-b72c-8fcff0fd9e70",
   "metadata": {},
   "outputs": [
    {
     "name": "stdout",
     "output_type": "stream",
     "text": [
      "2024-08-21 00:00:00\n"
     ]
    }
   ],
   "source": [
    "#to parse the date from the string\n",
    "parsed_date = datetime.strptime(today_string, \"%Y-%m-%d\")\n",
    "print(parsed_date)  # Output will be a datetime object representing the date\n"
   ]
  },
  {
   "cell_type": "markdown",
   "id": "bb34bb3f-7012-41a9-9d2d-a675b647dbaf",
   "metadata": {},
   "source": [
    "### Q4. List the files in your current directory"
   ]
  },
  {
   "cell_type": "markdown",
   "id": "608c294d",
   "metadata": {},
   "source": [
    "### Ans4."
   ]
  },
  {
   "cell_type": "code",
   "execution_count": 8,
   "id": "ad6e4d5a-1f29-4602-817c-ee51e208f655",
   "metadata": {},
   "outputs": [
    {
     "name": "stdout",
     "output_type": "stream",
     "text": [
      "['.anaconda', '.android', '.atom', '.conda', '.condarc', '.continuum', '.idlerc', '.ipynb_checkpoints', '.ipython', '.jupyter', '.ms-ad', '.vscode', '3D Objects', 'AppData', 'Application Data', 'Contacts', 'Cookies', 'Desktop', 'Documents', 'Downloads', 'Favorites', 'github', 'IntelGraphicsProfiles', 'Links', 'Local Settings', 'Music', 'My Documents', 'NetHood', 'NTUSER.DAT', 'ntuser.dat.LOG1', 'ntuser.dat.LOG2', 'NTUSER.DAT{0a5c5ccf-ceae-11ec-a8e3-bc542f790e19}.TM.blf', 'NTUSER.DAT{0a5c5ccf-ceae-11ec-a8e3-bc542f790e19}.TMContainer00000000000000000001.regtrans-ms', 'NTUSER.DAT{0a5c5ccf-ceae-11ec-a8e3-bc542f790e19}.TMContainer00000000000000000002.regtrans-ms', 'ntuser.ini', 'OneDrive', 'Pictures', 'PrintHood', 'Programs', 'PycharmProjects', 'Recent', 'Saved Games', 'ScStore', 'Searches', 'SendTo', 'Start Menu', 'Templates', 'today.txt', 'Untitled.ipynb', 'Untitled1.ipynb', 'Videos', 'vt lab 5 ( 6 june).twb']\n"
     ]
    }
   ],
   "source": [
    "import os\n",
    "\n",
    "#to list files in the current directory\n",
    "files_in_current_directory = os.listdir('.')\n",
    "print(files_in_current_directory)  # Output will be a list of files in the current directory\n",
    "\n"
   ]
  },
  {
   "cell_type": "markdown",
   "id": "5fb3f70d-3868-4c69-808f-29df1d6916ad",
   "metadata": {},
   "source": [
    "### Q5. Create a list of all of the files in your parent directory (minimum five files should be available)."
   ]
  },
  {
   "cell_type": "markdown",
   "id": "04d43e26",
   "metadata": {},
   "source": [
    "### Ans5."
   ]
  },
  {
   "cell_type": "code",
   "execution_count": 6,
   "id": "d8c8836e-026d-43f4-b5bc-063a54ffe638",
   "metadata": {},
   "outputs": [
    {
     "name": "stdout",
     "output_type": "stream",
     "text": [
      "['All Users', 'Default', 'Default User', 'desktop.ini', 'lenovo', 'Public']\n"
     ]
    }
   ],
   "source": [
    "#to list files in the parent directory\n",
    "files_in_parent_directory = os.listdir('..')\n",
    "print(files_in_parent_directory)  # Output will be a list of files in the parent directory\n"
   ]
  },
  {
   "cell_type": "markdown",
   "id": "8c390b3e-4fee-4d7a-8e8d-0d81a3e4e235",
   "metadata": {},
   "source": [
    "### Q6. Use multiprocessing to create three separate processes. Make each one wait a random number of \n",
    "seconds between one and five, print the current time, and then exit."
   ]
  },
  {
   "cell_type": "markdown",
   "id": "faa8a73e",
   "metadata": {},
   "source": [
    "### Ans6."
   ]
  },
  {
   "cell_type": "code",
   "execution_count": 9,
   "id": "f3007974-5852-4550-90bc-f1b426b2d10c",
   "metadata": {},
   "outputs": [],
   "source": [
    "import multiprocessing\n",
    "import time\n",
    "import random\n",
    "from datetime import datetime\n",
    "\n",
    "def worker():\n",
    "    wait_time = random.randint(1, 5)\n",
    "    time.sleep(wait_time)\n",
    "    print(f\"Process {multiprocessing.current_process().name} waited {wait_time} seconds. Current time: {datetime.now()}\")\n",
    "\n",
    "if __name__ == \"__main__\":\n",
    "    processes = []\n",
    "    for i in range(3):\n",
    "        process = multiprocessing.Process(target=worker, name=f\"Process-{i+1}\")\n",
    "        processes.append(process)\n",
    "        process.start()\n",
    "\n",
    "    for process in processes:\n",
    "        process.join()\n"
   ]
  },
  {
   "cell_type": "code",
   "execution_count": 10,
   "id": "2dae2cf0-be17-4bb9-a39c-06ae1603f961",
   "metadata": {},
   "outputs": [
    {
     "name": "stdout",
     "output_type": "stream",
     "text": [
      "Process MainProcess waited 2 seconds. Current time: 2024-08-21 22:26:43.979495\n"
     ]
    }
   ],
   "source": [
    "worker()"
   ]
  },
  {
   "cell_type": "markdown",
   "id": "4c635669-f994-4684-ac44-ac6854afd4f8",
   "metadata": {},
   "source": [
    "### Q7. Create a date object of your day of birth."
   ]
  },
  {
   "cell_type": "markdown",
   "id": "2c27b182",
   "metadata": {},
   "source": [
    "### Ans7."
   ]
  },
  {
   "cell_type": "code",
   "execution_count": 21,
   "id": "b8062313-eb51-45d2-9847-1c821f007538",
   "metadata": {},
   "outputs": [
    {
     "name": "stdout",
     "output_type": "stream",
     "text": [
      "1999-08-09 00:00:00\n"
     ]
    }
   ],
   "source": [
    "dob = datetime.strptime('1999-08-09', \"%Y-%m-%d\")\n",
    "print(dob)  #output will be the datetime object for my date of birth\n"
   ]
  },
  {
   "cell_type": "markdown",
   "id": "534d1507-2df0-4a1a-ad0c-d4b9a94e5bb9",
   "metadata": {},
   "source": [
    "### Q8. What day of the week was your day of birth?"
   ]
  },
  {
   "cell_type": "markdown",
   "id": "f2a3e73c",
   "metadata": {},
   "source": [
    "### Ans8."
   ]
  },
  {
   "cell_type": "code",
   "execution_count": 22,
   "id": "748ffcb8-12ff-4f97-a4ef-2f09fb9d7760",
   "metadata": {},
   "outputs": [
    {
     "name": "stdout",
     "output_type": "stream",
     "text": [
      "Monday\n"
     ]
    }
   ],
   "source": [
    "day_of_week = dob.strftime(\"%A\")\n",
    "print(day_of_week)  #output will be the day of the week\n"
   ]
  },
  {
   "cell_type": "markdown",
   "id": "e8aca4f4-6330-4391-a69f-e68ffad852d9",
   "metadata": {},
   "source": [
    "### Q9. When will you be (or when were you) 10,000 days old?"
   ]
  },
  {
   "cell_type": "markdown",
   "id": "e5f441ca",
   "metadata": {},
   "source": [
    "### Ans9."
   ]
  },
  {
   "cell_type": "code",
   "execution_count": 23,
   "id": "cd900675-b39b-43c8-ac1d-654f41df8cab",
   "metadata": {},
   "outputs": [
    {
     "name": "stdout",
     "output_type": "stream",
     "text": [
      "2026-12-25 00:00:00\n"
     ]
    }
   ],
   "source": [
    "from datetime import timedelta\n",
    "\n",
    "ten_thousand_days = dob + timedelta(days=10000)\n",
    "print(ten_thousand_days)  # output will be the date when I'll be 10,000 days old\n"
   ]
  }
 ],
 "metadata": {
  "kernelspec": {
   "display_name": "Python 3 (ipykernel)",
   "language": "python",
   "name": "python3"
  },
  "language_info": {
   "codemirror_mode": {
    "name": "ipython",
    "version": 3
   },
   "file_extension": ".py",
   "mimetype": "text/x-python",
   "name": "python",
   "nbconvert_exporter": "python",
   "pygments_lexer": "ipython3",
   "version": "3.9.13"
  }
 },
 "nbformat": 4,
 "nbformat_minor": 5
}
