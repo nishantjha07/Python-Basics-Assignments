{
 "cells": [
  {
   "cell_type": "markdown",
   "id": "f602acd9",
   "metadata": {},
   "source": [
    "### Q1. Assign the value 7 to the variable guess_me. Then, write the conditional tests (if, else, and elif) to print the string 'too low' if guess_me is less than 7, 'too high' if greater than 7, and 'just right' if equal to 7."
   ]
  },
  {
   "cell_type": "markdown",
   "id": "15b49d01",
   "metadata": {},
   "source": [
    "### Ans1."
   ]
  },
  {
   "cell_type": "code",
   "execution_count": 1,
   "id": "18e383f2",
   "metadata": {},
   "outputs": [
    {
     "name": "stdout",
     "output_type": "stream",
     "text": [
      "just right\n"
     ]
    }
   ],
   "source": [
    "# Assign the value 7 to the variable guess_me\n",
    "guess_me = 7\n",
    "\n",
    "# Conditional tests\n",
    "if guess_me < 7:\n",
    "    print('too low')\n",
    "elif guess_me > 7:\n",
    "    print('too high')\n",
    "else:\n",
    "    print('just right')\n"
   ]
  },
  {
   "cell_type": "markdown",
   "id": "f95ec7b8",
   "metadata": {},
   "source": [
    "### Q2. Assign the value 7 to the variable guess_me and the value 1 to the variable start. Write a while loop that compares start with guess_me. Print too low if start is less than guess me. If start equals guess_me, print 'found it!' and exit the loop. If start is greater than guess_me, print 'oops' and exit the loop. Increment start at the end of the loop."
   ]
  },
  {
   "cell_type": "markdown",
   "id": "4d88b3a1",
   "metadata": {},
   "source": [
    "### Ans2."
   ]
  },
  {
   "cell_type": "code",
   "execution_count": 2,
   "id": "9f40afee",
   "metadata": {},
   "outputs": [
    {
     "name": "stdout",
     "output_type": "stream",
     "text": [
      "too low\n",
      "too low\n",
      "too low\n",
      "too low\n",
      "too low\n",
      "too low\n",
      "found it!\n"
     ]
    }
   ],
   "source": [
    "# Assign values to the variables\n",
    "guess_me = 7\n",
    "start = 1\n",
    "\n",
    "# While loop to compare start with guess_me\n",
    "while True:\n",
    "    if start < guess_me:\n",
    "        print('too low')\n",
    "    elif start == guess_me:\n",
    "        print('found it!')\n",
    "        break  # Exit the loop\n",
    "    else:\n",
    "        print('oops')\n",
    "        break  # Exit the loop\n",
    "    \n",
    "    # Increment start\n",
    "    start += 1"
   ]
  },
  {
   "cell_type": "markdown",
   "id": "05f14201",
   "metadata": {},
   "source": [
    "### Q3. Print the following values of the list [3, 2, 1, 0] using a for loop."
   ]
  },
  {
   "cell_type": "markdown",
   "id": "4ed882c6",
   "metadata": {},
   "source": [
    "### Ans3."
   ]
  },
  {
   "cell_type": "code",
   "execution_count": 3,
   "id": "570f61f4",
   "metadata": {},
   "outputs": [
    {
     "name": "stdout",
     "output_type": "stream",
     "text": [
      "3\n",
      "2\n",
      "1\n",
      "0\n"
     ]
    }
   ],
   "source": [
    "# Define the list\n",
    "numbers = [3, 2, 1, 0]\n",
    "\n",
    "# Use a for loop to print each value in the list\n",
    "for number in numbers:\n",
    "    \n",
    "    print(number)\n"
   ]
  },
  {
   "cell_type": "markdown",
   "id": "15094334",
   "metadata": {},
   "source": [
    "### Q4. Use a list comprehension to make a list of the even numbers in range(10)"
   ]
  },
  {
   "cell_type": "markdown",
   "id": "1c857c9e",
   "metadata": {},
   "source": [
    "### Ans4."
   ]
  },
  {
   "cell_type": "code",
   "execution_count": 4,
   "id": "37306f90",
   "metadata": {},
   "outputs": [
    {
     "name": "stdout",
     "output_type": "stream",
     "text": [
      "[0, 2, 4, 6, 8]\n"
     ]
    }
   ],
   "source": [
    "# Create a list of even numbers in range(10) using a list comprehension\n",
    "even_numbers = [num for num in range(10) if num % 2 == 0]\n",
    "\n",
    "\n",
    "print(even_numbers)\n"
   ]
  },
  {
   "cell_type": "markdown",
   "id": "ecc2fe3d",
   "metadata": {},
   "source": [
    "### Q5. Use a dictionary comprehension to create the dictionary squares. Use range(10) to return the keys, and use the square of each key as its value."
   ]
  },
  {
   "cell_type": "markdown",
   "id": "264d5deb",
   "metadata": {},
   "source": [
    "### Ans5."
   ]
  },
  {
   "cell_type": "code",
   "execution_count": 5,
   "id": "6e4582ce",
   "metadata": {},
   "outputs": [
    {
     "name": "stdout",
     "output_type": "stream",
     "text": [
      "{0: 0, 1: 1, 2: 4, 3: 9, 4: 16, 5: 25, 6: 36, 7: 49, 8: 64, 9: 81}\n"
     ]
    }
   ],
   "source": [
    "# Create the dictionary using a dictionary comprehension\n",
    "squares = {num: num ** 2 for num in range(10)}\n",
    "\n",
    "print(squares)\n"
   ]
  },
  {
   "cell_type": "markdown",
   "id": "42d7b2cc",
   "metadata": {},
   "source": [
    "### Q6. Construct the set odd from the odd numbers in the range using a set comprehension (10)."
   ]
  },
  {
   "cell_type": "markdown",
   "id": "4a550e10",
   "metadata": {},
   "source": [
    "### Ans6."
   ]
  },
  {
   "cell_type": "code",
   "execution_count": 6,
   "id": "f71a67d2",
   "metadata": {},
   "outputs": [
    {
     "name": "stdout",
     "output_type": "stream",
     "text": [
      "{1, 3, 5, 7, 9}\n"
     ]
    }
   ],
   "source": [
    "# Create the set of odd numbers in range(10) using a set comprehension\n",
    "odd = {num for num in range(10) if num % 2 != 0}\n",
    "\n",
    "\n",
    "print(odd)\n"
   ]
  },
  {
   "cell_type": "markdown",
   "id": "6d2d9fc9",
   "metadata": {},
   "source": [
    "### Q7. Use a generator comprehension to return the string 'Got ' and a number for the numbers in range(10). Iterate through this by using a for loop."
   ]
  },
  {
   "cell_type": "markdown",
   "id": "68bdf75f",
   "metadata": {},
   "source": [
    "### Ans7."
   ]
  },
  {
   "cell_type": "code",
   "execution_count": 7,
   "id": "49858f86",
   "metadata": {},
   "outputs": [
    {
     "name": "stdout",
     "output_type": "stream",
     "text": [
      "Got 0\n",
      "Got 1\n",
      "Got 2\n",
      "Got 3\n",
      "Got 4\n",
      "Got 5\n",
      "Got 6\n",
      "Got 7\n",
      "Got 8\n",
      "Got 9\n"
     ]
    }
   ],
   "source": [
    "# Create the generator comprehension\n",
    "generator = (f'Got {num}' for num in range(10))\n",
    "\n",
    "for item in generator:\n",
    "    print(item)"
   ]
  },
  {
   "cell_type": "markdown",
   "id": "b5d23b2a",
   "metadata": {},
   "source": [
    "### Q8. Define a function called good that returns the list ['Harry', 'Ron', 'Hermione']."
   ]
  },
  {
   "cell_type": "markdown",
   "id": "8c32da8c",
   "metadata": {},
   "source": [
    "### Ans8."
   ]
  },
  {
   "cell_type": "code",
   "execution_count": 8,
   "id": "fa96b866",
   "metadata": {},
   "outputs": [
    {
     "name": "stdout",
     "output_type": "stream",
     "text": [
      "['Harry', 'Ron', 'Hermione']\n"
     ]
    }
   ],
   "source": [
    "# Define the function 'good'\n",
    "def good():\n",
    "    return ['Harry', 'Ron', 'Hermione']\n",
    "\n",
    "\n",
    "print(good())\n"
   ]
  },
  {
   "cell_type": "markdown",
   "id": "860839d8",
   "metadata": {},
   "source": [
    "### Q9. Define a generator function called get_odds that returns the odd numbers from range(10). Use a for loop to find and print the third value returned."
   ]
  },
  {
   "cell_type": "markdown",
   "id": "9d73f3b7",
   "metadata": {},
   "source": [
    "### Ans9."
   ]
  },
  {
   "cell_type": "code",
   "execution_count": 9,
   "id": "569fe314",
   "metadata": {},
   "outputs": [
    {
     "name": "stdout",
     "output_type": "stream",
     "text": [
      "5\n"
     ]
    }
   ],
   "source": [
    "# Define the generator function 'get_odds'\n",
    "def get_odds():\n",
    "    for num in range(10):\n",
    "        if num % 2 != 0:  # Check if the number is odd\n",
    "            yield num\n",
    "\n",
    "# Create a generator from the 'get_odds' function\n",
    "generator = get_odds()\n",
    "\n",
    "# Find and print the third value returned by the generator\n",
    "count = 0\n",
    "for value in generator:\n",
    "    count += 1\n",
    "    if count == 3:\n",
    "        print(value)\n",
    "        break\n"
   ]
  },
  {
   "cell_type": "markdown",
   "id": "1b4f0303",
   "metadata": {},
   "source": [
    "### Q10. Define an exception called OopsException. Raise this exception to see what happens. Then write the code to catch this exception and print 'Caught an oops'."
   ]
  },
  {
   "cell_type": "markdown",
   "id": "445daf24",
   "metadata": {},
   "source": [
    "### Ans10."
   ]
  },
  {
   "cell_type": "code",
   "execution_count": 10,
   "id": "f03c7ddc",
   "metadata": {},
   "outputs": [
    {
     "name": "stdout",
     "output_type": "stream",
     "text": [
      "Caught an oops\n"
     ]
    }
   ],
   "source": [
    "# Define the custom exception\n",
    "class OopsException(Exception):\n",
    "    pass\n",
    "\n",
    "# Raise the custom exception\n",
    "try:\n",
    "    raise OopsException(\"This is an OopsException\")\n",
    "except OopsException:\n",
    "    print('Caught an oops')\n"
   ]
  },
  {
   "cell_type": "markdown",
   "id": "2871cddc",
   "metadata": {},
   "source": [
    "### Q11. Use zip() to make a dictionary called movies that pairs these lists: titles = ['Creature of Habit', 'Crewel Fate'] and plots = ['A nun turns into a monster', 'A haunted yarn shop']."
   ]
  },
  {
   "cell_type": "markdown",
   "id": "221ed3a0",
   "metadata": {},
   "source": [
    "### Ans11."
   ]
  },
  {
   "cell_type": "code",
   "execution_count": 11,
   "id": "4295d3ea",
   "metadata": {},
   "outputs": [
    {
     "name": "stdout",
     "output_type": "stream",
     "text": [
      "{'Creature of Habit': 'A nun turns into a monster', 'Crewel Fate': 'A haunted yarn shop'}\n"
     ]
    }
   ],
   "source": [
    "# Define the lists\n",
    "titles = ['Creature of Habit', 'Crewel Fate']\n",
    "plots = ['A nun turns into a monster', 'A haunted yarn shop']\n",
    "\n",
    "# Use zip() to pair the lists and create a dictionary\n",
    "movies = dict(zip(titles, plots))\n",
    "\n",
    "print(movies)\n"
   ]
  }
 ],
 "metadata": {
  "kernelspec": {
   "display_name": "Python 3 (ipykernel)",
   "language": "python",
   "name": "python3"
  },
  "language_info": {
   "codemirror_mode": {
    "name": "ipython",
    "version": 3
   },
   "file_extension": ".py",
   "mimetype": "text/x-python",
   "name": "python",
   "nbconvert_exporter": "python",
   "pygments_lexer": "ipython3",
   "version": "3.9.13"
  }
 },
 "nbformat": 4,
 "nbformat_minor": 5
}
