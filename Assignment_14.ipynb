{
 "cells": [
  {
   "cell_type": "markdown",
   "id": "590ff223",
   "metadata": {},
   "source": [
    "### Q1. What does RGBA stand for?"
   ]
  },
  {
   "cell_type": "markdown",
   "id": "ef314dd0",
   "metadata": {},
   "source": [
    "### Ans1.\n",
    "RGBA stands for 'Red', 'Green', 'Blue' and 'Alpha'"
   ]
  },
  {
   "cell_type": "markdown",
   "id": "baeb6f74",
   "metadata": {},
   "source": [
    "### Q2. From the Pillow module, how do you get the RGBA value of any images?"
   ]
  },
  {
   "cell_type": "markdown",
   "id": "12d5e465",
   "metadata": {},
   "source": [
    "### Ans2.\n",
    " You can get the RGBA value of an image using the getpixel() method from the Pillow module."
   ]
  },
  {
   "cell_type": "code",
   "execution_count": null,
   "id": "d2cb89fb",
   "metadata": {},
   "outputs": [],
   "source": [
    "from PIL import Image\n",
    "\n",
    "# Load an image\n",
    "img = Image.open('your_image.png')\n",
    "\n",
    "# Get the RGBA value at a specific coordinate (x, y)\n",
    "rgba_value = img.getpixel((x, y))\n",
    "print(rgba_value)"
   ]
  },
  {
   "cell_type": "markdown",
   "id": "0fea5f9a",
   "metadata": {},
   "source": [
    "### Q3. What is a box tuple, and how does it work?"
   ]
  },
  {
   "cell_type": "markdown",
   "id": "a609f7eb",
   "metadata": {},
   "source": [
    "### Ans3.\n",
    "A box tuple is a tuple of four integers: '(left, upper, right, lower)'.\n",
    "\n",
    "This tuple is used to define a rectangular region of an image, for example, when cropping an image or defining a region of interest."
   ]
  },
  {
   "cell_type": "markdown",
   "id": "89dcf5a5",
   "metadata": {},
   "source": [
    "### Q4. Use your image and load in notebook then, How can you find out the width and height of an Image object?"
   ]
  },
  {
   "cell_type": "markdown",
   "id": "a331045c",
   "metadata": {},
   "source": [
    "### Ans4.\n",
    "'size' attribute used to find the width and height of an Image object."
   ]
  },
  {
   "cell_type": "code",
   "execution_count": null,
   "id": "9bfc631a",
   "metadata": {},
   "outputs": [],
   "source": [
    "from PIL import Image\n",
    "\n",
    "# Load an image\n",
    "img = Image.open('your_image.png')\n",
    "\n",
    "# Get the width and height\n",
    "width, height = img.size\n",
    "print(f\"Width: {width}, Height: {height}\")"
   ]
  },
  {
   "cell_type": "markdown",
   "id": "6b28e8e9",
   "metadata": {},
   "source": [
    "### Q5. What method would you call to get Image object for a 100×100 image, excluding the lower-left quarter of it?"
   ]
  },
  {
   "cell_type": "markdown",
   "id": "d8fe70da",
   "metadata": {},
   "source": [
    "### Ans5.\n",
    "You would use the 'crop()' method."
   ]
  },
  {
   "cell_type": "code",
   "execution_count": null,
   "id": "9b2ade53",
   "metadata": {},
   "outputs": [],
   "source": [
    "from PIL import Image\n",
    "\n",
    "# Load an image\n",
    "img = Image.open('your_image.png')\n",
    "\n",
    "# Define the box to crop out the lower-left quarter\n",
    "box = (0, 0, 50, 50)  # (left, upper, right, lower)\n",
    "\n",
    "# Crop the image\n",
    "cropped_img = img.crop(box)"
   ]
  },
  {
   "cell_type": "markdown",
   "id": "3bde2c08",
   "metadata": {},
   "source": [
    "- The 'crop()' method requires a box tuple to specify the area to retain. The box '(0, 0, 50, 50)' specifies a rectangular region that excludes the lower-left quarter of a 100x100 image. The resulting image would be 50x50 pixels in size."
   ]
  },
  {
   "cell_type": "markdown",
   "id": "42f06d0a",
   "metadata": {},
   "source": [
    "### Q6. After making changes to an Image object, how could you save it as an image file?"
   ]
  },
  {
   "cell_type": "markdown",
   "id": "9da39ccf",
   "metadata": {},
   "source": [
    "### Ans6.\n",
    " You can save the modified Image object using the 'save()' method."
   ]
  },
  {
   "cell_type": "code",
   "execution_count": null,
   "id": "d663aaec",
   "metadata": {},
   "outputs": [],
   "source": [
    "from PIL import Image\n",
    "\n",
    "# Load and modify an image\n",
    "img = Image.open('your_image.png')\n",
    "modified_img = img.rotate(90)  # Example modification\n",
    "\n",
    "# Save the modified image\n",
    "modified_img.save('modified_image.png')"
   ]
  },
  {
   "cell_type": "markdown",
   "id": "eb581f35",
   "metadata": {},
   "source": [
    "- The 'save()' method saves the Image object to a file. You can specify the file name and format (e.g., PNG, JPEG) when saving."
   ]
  },
  {
   "cell_type": "markdown",
   "id": "581f11e1",
   "metadata": {},
   "source": [
    "### Q7. What module contains Pillow’s shape-drawing code?"
   ]
  },
  {
   "cell_type": "markdown",
   "id": "0b0ee9a5",
   "metadata": {},
   "source": [
    "### Ans7.\n",
    "Pillow’s shape-drawing code is contained in the 'ImageDraw' module."
   ]
  },
  {
   "cell_type": "markdown",
   "id": "c832861b",
   "metadata": {},
   "source": [
    "### Q8. Image objects do not have drawing methods. What kind of object does? How do you get this kind of object?"
   ]
  },
  {
   "cell_type": "markdown",
   "id": "c762ce5e",
   "metadata": {},
   "source": [
    "### Ans8.\n",
    "The 'ImageDraw' object has drawing methods. You can get this object using the 'ImageDraw.Draw()' method."
   ]
  },
  {
   "cell_type": "code",
   "execution_count": null,
   "id": "5ce51e04",
   "metadata": {},
   "outputs": [],
   "source": [
    "from PIL import Image, ImageDraw\n",
    "\n",
    "# Load an image\n",
    "img = Image.open('your_image.png')\n",
    "\n",
    "# Create an ImageDraw object\n",
    "draw = ImageDraw.Draw(img)\n",
    "\n",
    "# Draw a rectangle\n",
    "draw.rectangle([10, 10, 100, 100], outline=\"red\", width=3)\n",
    "\n",
    "# Save the modified image\n",
    "img.save('drawn_image.png')"
   ]
  },
  {
   "cell_type": "markdown",
   "id": "8908d5fb",
   "metadata": {},
   "source": [
    "- The ImageDraw.Draw() function returns an ImageDraw object associated with the image, which can be used to draw shapes and text onto the image."
   ]
  }
 ],
 "metadata": {
  "kernelspec": {
   "display_name": "Python 3 (ipykernel)",
   "language": "python",
   "name": "python3"
  },
  "language_info": {
   "codemirror_mode": {
    "name": "ipython",
    "version": 3
   },
   "file_extension": ".py",
   "mimetype": "text/x-python",
   "name": "python",
   "nbconvert_exporter": "python",
   "pygments_lexer": "ipython3",
   "version": "3.9.13"
  }
 },
 "nbformat": 4,
 "nbformat_minor": 5
}
