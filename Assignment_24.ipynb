{
 "cells": [
  {
   "cell_type": "markdown",
   "id": "b3a1d0c3",
   "metadata": {},
   "source": [
    "### Q1. What is the relationship between def statements and lambda expressions ?"
   ]
  },
  {
   "cell_type": "markdown",
   "id": "353b7807",
   "metadata": {},
   "source": [
    "### Ans1. \n",
    "def statement is used to create a normal function whereas lambda expressions are used to create Anonymous functionswhich can be assigned to a variable and can be called using the variable later in function.\n",
    "\n",
    "Lambda's body is a single expression and not a block of statements like def statement. The lambda expression's body is similar to what we wouldd put in a def body's return statement. We simply type the result as an expression instead of explicitly returning it. Because it is limited to an expression, a lambda is less general than a def statement.\n",
    "\n"
   ]
  },
  {
   "cell_type": "markdown",
   "id": "e2a19f7e",
   "metadata": {},
   "source": [
    "### Q2. What is the benefit of lambda?"
   ]
  },
  {
   "cell_type": "markdown",
   "id": "ebb72a4d",
   "metadata": {},
   "source": [
    "### Ans2. \n",
    "Fewer Lines of Code Lambda functions are inline functions and thus execute comparatively faster Many times lambda functions make code much more readable by avoiding the logical jumps caused by function calls"
   ]
  },
  {
   "cell_type": "markdown",
   "id": "a31355de",
   "metadata": {},
   "source": [
    "### Q3. Compare and contrast map, filter, and reduce."
   ]
  },
  {
   "cell_type": "markdown",
   "id": "3f186737",
   "metadata": {},
   "source": [
    "### Ans3. The differences between map, filter and reduce are following:\n",
    "\n",
    "1. map(): The map() function is a type of higher-order. This function takes another function as a parameter along with a sequence of iterables and returns an output after applying the function to each iterable present in the sequence.\n",
    "\n",
    "2. filter(): The filter() function is used to create an output list consisting of values for which the function returns true.\n",
    "\n",
    "3. reduce(): The reduce() function, as the name describes, applies a given function to the iterables and returns a single value\n",
    "\n"
   ]
  },
  {
   "cell_type": "code",
   "execution_count": 1,
   "id": "1f3f12cc",
   "metadata": {},
   "outputs": [
    {
     "name": "stdout",
     "output_type": "stream",
     "text": [
      "Map -> [2, 4, 6, 8]\n",
      "Filter -> [1, 3]\n",
      "Reduce -> 21\n"
     ]
    }
   ],
   "source": [
    "#example\n",
    "from functools import reduce\n",
    "# map function\n",
    "print('Map ->',list(map(lambda x:x+x, [1,2,3,4])))\n",
    "# fitler function\n",
    "print('Filter ->',list(filter(lambda x:x%2 !=0, [1,2,3,4])))\n",
    "# reduce function\n",
    "print('Reduce ->',reduce(lambda x,y:x+y, [1,2,3,4,5,6]))\n"
   ]
  },
  {
   "cell_type": "markdown",
   "id": "c5501076",
   "metadata": {},
   "source": [
    "### Q4. What are function annotations, and how are they used?"
   ]
  },
  {
   "cell_type": "markdown",
   "id": "ca016544",
   "metadata": {},
   "source": [
    "### Ans4. \n",
    "Function annotations provide a way of associating various parts of a function with arbitrary pythoncexpressions at compile time. Annotations of simple parameters def func(x: expression, y: expression = 20): Whereas the annotations for excess parameters are as − def func (args: expression, kwargs: expression):"
   ]
  },
  {
   "cell_type": "markdown",
   "id": "458f483c",
   "metadata": {},
   "source": [
    "### 5. What are recursive functions, and how are they used?"
   ]
  },
  {
   "cell_type": "markdown",
   "id": "f9b827a5",
   "metadata": {},
   "source": [
    "### Ans5. \n",
    "A recursive function is a function that calls itself during its execution. This means that the function will continue to call itself and repeat its behavior until some condition is met to return a result."
   ]
  },
  {
   "cell_type": "code",
   "execution_count": 2,
   "id": "54c35502",
   "metadata": {},
   "outputs": [
    {
     "data": {
      "text/plain": [
       "6"
      ]
     },
     "execution_count": 2,
     "metadata": {},
     "output_type": "execute_result"
    }
   ],
   "source": [
    "# Example\n",
    "def fact(x):\n",
    "    if x == 1 :\n",
    "        return 1\n",
    "    else :\n",
    "        return x * fact(x-1) # recurtion\n",
    "    \n",
    "fact(3)\n"
   ]
  },
  {
   "cell_type": "markdown",
   "id": "52251855",
   "metadata": {},
   "source": [
    "### Q6. What are some general design guidelines for coding functions?"
   ]
  },
  {
   "cell_type": "markdown",
   "id": "aed53cc6",
   "metadata": {},
   "source": [
    "### Ans6. \n",
    "1. Use 4-space indentation and no tabs.\n",
    "2. Use docstrings\n",
    "3. Wrap linethat they don’t exceed 79 characters\n",
    "4. Use of regular and updated comments are valuable to both the coders and users\n",
    "5. Use of trailing commas : in case of tuple -> ('good',)\n",
    "6. Use Python’s default UTF-8 or ASCII encodings and not any fancy encodings\n",
    "7. Naming Conventions\n",
    "8.Characters that should not be used for identifiers :\n",
    "    ‘l’ (lowercase letter el), \n",
    "    ‘O’ (uppercase letter oh), \n",
    "    ‘I’ (uppercase letter eye) as single character variable names as these are similar to the numerals one and zero.\n",
    "9. Don’t use non-ASCII characters in identifiers\n",
    "10. Name your classes and functions consistently\n",
    "11. While naming of function of methods always use self for the first argument\n"
   ]
  },
  {
   "cell_type": "markdown",
   "id": "6f76dd9e",
   "metadata": {},
   "source": [
    "### Q7. Name three or more ways that functions can communicate results to a caller."
   ]
  },
  {
   "cell_type": "markdown",
   "id": "7756a880",
   "metadata": {},
   "source": [
    "### Ans7.\n",
    "1. Function can return single value\n",
    "2. Can return multiple values, tuple\n",
    "3. can return list,dictionary\n",
    "4. can return function object\n",
    "5. can return class object"
   ]
  }
 ],
 "metadata": {
  "kernelspec": {
   "display_name": "Python 3 (ipykernel)",
   "language": "python",
   "name": "python3"
  },
  "language_info": {
   "codemirror_mode": {
    "name": "ipython",
    "version": 3
   },
   "file_extension": ".py",
   "mimetype": "text/x-python",
   "name": "python",
   "nbconvert_exporter": "python",
   "pygments_lexer": "ipython3",
   "version": "3.9.13"
  }
 },
 "nbformat": 4,
 "nbformat_minor": 5
}
