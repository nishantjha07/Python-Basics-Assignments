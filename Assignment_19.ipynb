{
 "cells": [
  {
   "cell_type": "markdown",
   "id": "bed9cc26",
   "metadata": {},
   "source": [
    "### Q1. Make a class called Thing with no contents and print it. Then, create an object called example from this class and also print it. Are the printed values the same or different?"
   ]
  },
  {
   "cell_type": "markdown",
   "id": "9d4885e9",
   "metadata": {},
   "source": [
    "### Ans1."
   ]
  },
  {
   "cell_type": "code",
   "execution_count": 1,
   "id": "a50b51f2",
   "metadata": {},
   "outputs": [
    {
     "name": "stdout",
     "output_type": "stream",
     "text": [
      "<class '__main__.Thing'>\n",
      "<__main__.Thing object at 0x00000214AC5BFC40>\n"
     ]
    }
   ],
   "source": [
    "# Define an empty class\n",
    "class Thing:\n",
    "    pass\n",
    "\n",
    "# Create an object from the class\n",
    "example = Thing()\n",
    "\n",
    "\n",
    "print(Thing)\n",
    "print(example)\n"
   ]
  },
  {
   "cell_type": "markdown",
   "id": "d943298e",
   "metadata": {},
   "source": [
    "- Yes,they are different. This distinction is important because it shows that while both are related to the same class, one is the definition, and the other is an actual instance created from that definition."
   ]
  },
  {
   "cell_type": "markdown",
   "id": "55397fdd",
   "metadata": {},
   "source": [
    "### Q2. Create a new class called Thing2 and add the value 'abc' to the letters class attribute. Letters should be printed."
   ]
  },
  {
   "cell_type": "markdown",
   "id": "641c3746",
   "metadata": {},
   "source": [
    "### Ans2."
   ]
  },
  {
   "cell_type": "code",
   "execution_count": 2,
   "id": "731209fb",
   "metadata": {},
   "outputs": [
    {
     "name": "stdout",
     "output_type": "stream",
     "text": [
      "abc\n"
     ]
    }
   ],
   "source": [
    "# Define the Thing2 class with a class attribute 'letters'\n",
    "class Thing2:\n",
    "    letters = 'abc'\n",
    "\n",
    "\n",
    "print(Thing2.letters)\n"
   ]
  },
  {
   "cell_type": "markdown",
   "id": "b1669025",
   "metadata": {},
   "source": [
    "### Q3. Make yet another class called, of course, Thing3. This time, assign the value 'xyz' to an instance (object) attribute called letters. Print letters. Do you need to make an object from the class to do this?"
   ]
  },
  {
   "cell_type": "markdown",
   "id": "3eef609c",
   "metadata": {},
   "source": [
    "### Ans3."
   ]
  },
  {
   "cell_type": "code",
   "execution_count": 3,
   "id": "2df7fb24",
   "metadata": {},
   "outputs": [
    {
     "name": "stdout",
     "output_type": "stream",
     "text": [
      "xyz\n"
     ]
    }
   ],
   "source": [
    "# Define the Thing3 class\n",
    "class Thing3:\n",
    "    def __init__(self):\n",
    "        self.letters = 'xyz'  # Instance attribute\n",
    "\n",
    "# Create an instance of the Thing3 class\n",
    "example = Thing3()\n",
    "\n",
    "print(example.letters)\n"
   ]
  },
  {
   "cell_type": "markdown",
   "id": "af730255",
   "metadata": {},
   "source": [
    "-Yes, you do need to create an object from the class to access and print the letters attribute"
   ]
  },
  {
   "cell_type": "markdown",
   "id": "30f23cda",
   "metadata": {},
   "source": [
    "### Q4. Create an Element class with the instance attributes name, symbol, and number. Create a class object with the values 'Hydrogen,' 'H,' and 1."
   ]
  },
  {
   "cell_type": "markdown",
   "id": "fedf459a",
   "metadata": {},
   "source": [
    "### Ans4."
   ]
  },
  {
   "cell_type": "code",
   "execution_count": 4,
   "id": "f54df00f",
   "metadata": {},
   "outputs": [
    {
     "name": "stdout",
     "output_type": "stream",
     "text": [
      "Hydrogen\n",
      "H\n",
      "1\n"
     ]
    }
   ],
   "source": [
    "# Define the Element class\n",
    "class Element:\n",
    "    def __init__(self, name, symbol, number):\n",
    "        self.name = name\n",
    "        self.symbol = symbol\n",
    "        self.number = number\n",
    "\n",
    "# Create an object of the Element class with the specified values\n",
    "hydrogen = Element('Hydrogen', 'H', 1)\n",
    "\n",
    "\n",
    "print(hydrogen.name)   \n",
    "print(hydrogen.symbol) \n",
    "print(hydrogen.number) \n"
   ]
  },
  {
   "cell_type": "markdown",
   "id": "598e353f",
   "metadata": {},
   "source": [
    "### Q5. Make a dictionary with these keys and values: 'name': 'Hydrogen', 'symbol': 'H', 'number': 1. Then, create an object called hydrogen from class Element using this dictionary."
   ]
  },
  {
   "cell_type": "markdown",
   "id": "c663f007",
   "metadata": {},
   "source": [
    "### Ans5. "
   ]
  },
  {
   "cell_type": "code",
   "execution_count": 5,
   "id": "3faae708",
   "metadata": {},
   "outputs": [
    {
     "name": "stdout",
     "output_type": "stream",
     "text": [
      "Hydrogen\n",
      "H\n",
      "1\n"
     ]
    }
   ],
   "source": [
    "# Define the Element class\n",
    "class Element:\n",
    "    def __init__(self, name, symbol, number):\n",
    "        self.name = name\n",
    "        self.symbol = symbol\n",
    "        self.number = number\n",
    "\n",
    "# Create a dictionary with the keys and values\n",
    "element_dict = {'name': 'Hydrogen', 'symbol': 'H', 'number': 1}\n",
    "\n",
    "# Create an object of the Element class using the dictionary\n",
    "hydrogen = Element(**element_dict)\n",
    "\n",
    "\n",
    "print(hydrogen.name)   \n",
    "print(hydrogen.symbol) \n",
    "print(hydrogen.number) \n"
   ]
  },
  {
   "cell_type": "markdown",
   "id": "ab8dfd49",
   "metadata": {},
   "source": [
    "### Q6. For the Element class, define a method called dump() that prints the values of the object’s attributes (name, symbol, and number). Create the hydrogen object from this new definition and use dump() to print its attributes."
   ]
  },
  {
   "cell_type": "markdown",
   "id": "6b60c4bc",
   "metadata": {},
   "source": [
    "### Ans6."
   ]
  },
  {
   "cell_type": "code",
   "execution_count": 6,
   "id": "29232df9",
   "metadata": {},
   "outputs": [
    {
     "name": "stdout",
     "output_type": "stream",
     "text": [
      "Name: Hydrogen\n",
      "Symbol: H\n",
      "Number: 1\n"
     ]
    }
   ],
   "source": [
    "# Define the Element class with a dump() method\n",
    "class Element:\n",
    "    def __init__(self, name, symbol, number):\n",
    "        self.name = name\n",
    "        self.symbol = symbol\n",
    "        self.number = number\n",
    "\n",
    "    def dump(self):\n",
    "        print(f'Name: {self.name}')\n",
    "        print(f'Symbol: {self.symbol}')\n",
    "        print(f'Number: {self.number}')\n",
    "\n",
    "# Create an object of the Element class\n",
    "hydrogen = Element('Hydrogen', 'H', 1)\n",
    "\n",
    "\n",
    "hydrogen.dump()\n"
   ]
  },
  {
   "cell_type": "markdown",
   "id": "15c5339f",
   "metadata": {},
   "source": [
    "### Q7. Call print(hydrogen). In the definition of Element, change the name of method dump to __str__, create a new hydrogen object, and call print(hydrogen) again"
   ]
  },
  {
   "cell_type": "markdown",
   "id": "644a198e",
   "metadata": {},
   "source": [
    "### Ans7."
   ]
  },
  {
   "cell_type": "code",
   "execution_count": 7,
   "id": "c877c23b",
   "metadata": {},
   "outputs": [
    {
     "name": "stdout",
     "output_type": "stream",
     "text": [
      "<__main__.Element object at 0x00000214AC6132E0>\n"
     ]
    }
   ],
   "source": [
    "# Define the Element class with a dump() method\n",
    "class Element:\n",
    "    def __init__(self, name, symbol, number):\n",
    "        self.name = name\n",
    "        self.symbol = symbol\n",
    "        self.number = number\n",
    "\n",
    "    def dump(self):\n",
    "        print(f'Name: {self.name}')\n",
    "        print(f'Symbol: {self.symbol}')\n",
    "        print(f'Number: {self.number}')\n",
    "\n",
    "# Create an object of the Element class\n",
    "hydrogen = Element('Hydrogen', 'H', 1)\n",
    "\n",
    "\n",
    "print(hydrogen)\n"
   ]
  },
  {
   "cell_type": "code",
   "execution_count": 8,
   "id": "6e078aeb",
   "metadata": {},
   "outputs": [
    {
     "name": "stdout",
     "output_type": "stream",
     "text": [
      "Name: Hydrogen\n",
      "Symbol: H\n",
      "Number: 1\n"
     ]
    }
   ],
   "source": [
    "# Define the Element class with a __str__() method\n",
    "class Element:\n",
    "    def __init__(self, name, symbol, number):\n",
    "        self.name = name\n",
    "        self.symbol = symbol\n",
    "        self.number = number\n",
    "\n",
    "    def __str__(self):\n",
    "        return f'Name: {self.name}\\nSymbol: {self.symbol}\\nNumber: {self.number}'\n",
    "\n",
    "# Create a new object of the Element class\n",
    "hydrogen = Element('Hydrogen', 'H', 1)\n",
    "\n",
    "\n",
    "print(hydrogen)\n"
   ]
  },
  {
   "cell_type": "markdown",
   "id": "b38762d7",
   "metadata": {},
   "source": [
    "- This modification allows you to control how the object is represented when printed or converted to a string."
   ]
  },
  {
   "cell_type": "markdown",
   "id": "8fdd66ef",
   "metadata": {},
   "source": [
    "### Q8. Modify Element to make the attributes name, symbol, and number private. Define a getter property for each to return its value."
   ]
  },
  {
   "cell_type": "markdown",
   "id": "47a2fb7e",
   "metadata": {},
   "source": [
    "### Ans8."
   ]
  },
  {
   "cell_type": "code",
   "execution_count": 9,
   "id": "7f800450",
   "metadata": {},
   "outputs": [
    {
     "name": "stdout",
     "output_type": "stream",
     "text": [
      "Hydrogen\n",
      "H\n",
      "1\n",
      "Name: Hydrogen\n",
      "Symbol: H\n",
      "Number: 1\n"
     ]
    }
   ],
   "source": [
    "# Define the Element class with private attributes and getter properties\n",
    "class Element:\n",
    "    def __init__(self, name, symbol, number):\n",
    "        self.__name = name\n",
    "        self.__symbol = symbol\n",
    "        self.__number = number\n",
    "\n",
    "    # Getter property for name\n",
    "    @property\n",
    "    def name(self):\n",
    "        return self.__name\n",
    "\n",
    "    # Getter property for symbol\n",
    "    @property\n",
    "    def symbol(self):\n",
    "        return self.__symbol\n",
    "\n",
    "    # Getter property for number\n",
    "    @property\n",
    "    def number(self):\n",
    "        return self.__number\n",
    "\n",
    "    def __str__(self):\n",
    "        return f'Name: {self.name}\\nSymbol: {self.symbol}\\nNumber: {self.number}'\n",
    "\n",
    "# Create a new object of the Element class\n",
    "hydrogen = Element('Hydrogen', 'H', 1)\n",
    "\n",
    "# Access the attributes using the getter properties\n",
    "print(hydrogen.name)    \n",
    "print(hydrogen.symbol)\n",
    "print(hydrogen.number)  \n",
    "\n",
    "\n",
    "print(hydrogen)\n"
   ]
  },
  {
   "cell_type": "markdown",
   "id": "c1bb74ae",
   "metadata": {},
   "source": [
    "### Q9. Define three classes: Bear, Rabbit, and Octothorpe. For each, define only one method: eats(). This should return 'berries' (Bear), 'clover' (Rabbit), or 'campers' (Octothorpe). Create one object from each and print what it eats."
   ]
  },
  {
   "cell_type": "markdown",
   "id": "31f798bb",
   "metadata": {},
   "source": [
    "### Ans9."
   ]
  },
  {
   "cell_type": "code",
   "execution_count": 10,
   "id": "a8680523",
   "metadata": {},
   "outputs": [
    {
     "name": "stdout",
     "output_type": "stream",
     "text": [
      "The bear eats: berries\n",
      "The rabbit eats: clover\n",
      "The octothorpe eats: campers\n"
     ]
    }
   ],
   "source": [
    "# Define the Bear class with the eats() method\n",
    "class Bear:\n",
    "    def eats(self):\n",
    "        return 'berries'\n",
    "\n",
    "# Define the Rabbit class with the eats() method\n",
    "class Rabbit:\n",
    "    def eats(self):\n",
    "        return 'clover'\n",
    "\n",
    "# Define the Octothorpe class with the eats() method\n",
    "class Octothorpe:\n",
    "    def eats(self):\n",
    "        return 'campers'\n",
    "\n",
    "# Create an object of each class\n",
    "bear = Bear()\n",
    "rabbit = Rabbit()\n",
    "octothorpe = Octothorpe()\n",
    "\n",
    "\n",
    "print(f\"The bear eats: {bear.eats()}\")       \n",
    "print(f\"The rabbit eats: {rabbit.eats()}\")    \n",
    "print(f\"The octothorpe eats: {octothorpe.eats()}\")  \n"
   ]
  },
  {
   "cell_type": "markdown",
   "id": "d97f2b0c",
   "metadata": {},
   "source": [
    "- This confirms that each class returns the correct string when the eats() method is called on an instance of that class."
   ]
  },
  {
   "cell_type": "markdown",
   "id": "7f2ffe00",
   "metadata": {},
   "source": [
    "### Q10. Define these classes: Laser, Claw, and SmartPhone. Each has only one method: does(). This returns 'disintegrate' (Laser), 'crush' (Claw), or 'ring' (SmartPhone). Then, define the class Robot that has one instance (object) of each of these. Define a does() method for the Robot that prints what its component objects do"
   ]
  },
  {
   "cell_type": "markdown",
   "id": "043b6680",
   "metadata": {},
   "source": [
    "### Ans10."
   ]
  },
  {
   "cell_type": "code",
   "execution_count": 11,
   "id": "b8c2475a",
   "metadata": {},
   "outputs": [
    {
     "name": "stdout",
     "output_type": "stream",
     "text": [
      "The laser does: disintegrate\n",
      "The claw does: crush\n",
      "The smartphone does: ring\n"
     ]
    }
   ],
   "source": [
    "# Define the Laser class with the does() method\n",
    "class Laser:\n",
    "    def does(self):\n",
    "        return 'disintegrate'\n",
    "\n",
    "# Define the Claw class with the does() method\n",
    "class Claw:\n",
    "    def does(self):\n",
    "        return 'crush'\n",
    "\n",
    "# Define the SmartPhone class with the does() method\n",
    "class SmartPhone:\n",
    "    def does(self):\n",
    "        return 'ring'\n",
    "\n",
    "# Define the Robot class that has instances of Laser, Claw, and SmartPhone\n",
    "class Robot:\n",
    "    def __init__(self):\n",
    "        self.laser = Laser()\n",
    "        self.claw = Claw()\n",
    "        self.smartphone = SmartPhone()\n",
    "\n",
    "    def does(self):\n",
    "        return (f\"The laser does: {self.laser.does()}\\n\"\n",
    "                f\"The claw does: {self.claw.does()}\\n\"\n",
    "                f\"The smartphone does: {self.smartphone.does()}\")\n",
    "\n",
    "robot = Robot()\n",
    "print(robot.does())\n"
   ]
  },
  {
   "cell_type": "markdown",
   "id": "4c7b6183",
   "metadata": {},
   "source": [
    "- This output confirms that the Robot class correctly aggregates and prints the actions of its component objects."
   ]
  }
 ],
 "metadata": {
  "kernelspec": {
   "display_name": "Python 3 (ipykernel)",
   "language": "python",
   "name": "python3"
  },
  "language_info": {
   "codemirror_mode": {
    "name": "ipython",
    "version": 3
   },
   "file_extension": ".py",
   "mimetype": "text/x-python",
   "name": "python",
   "nbconvert_exporter": "python",
   "pygments_lexer": "ipython3",
   "version": "3.9.13"
  }
 },
 "nbformat": 4,
 "nbformat_minor": 5
}
