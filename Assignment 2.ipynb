{
 "cells": [
  {
   "cell_type": "markdown",
   "id": "ce98aa9b",
   "metadata": {},
   "source": [
    "### Q1. What are the two values of the Boolean data type? How do you write them?"
   ]
  },
  {
   "cell_type": "markdown",
   "id": "6b7dd051",
   "metadata": {},
   "source": [
    "### Ans1. \n",
    "Boolean data type has two possible values: true and false.\n",
    "\n",
    "In python we should use first letter capital\n",
    "\n",
    "1. 'True'\n",
    "\n",
    "2. 'False'"
   ]
  },
  {
   "cell_type": "markdown",
   "id": "83304fc3",
   "metadata": {},
   "source": [
    "### Q2. What are the three different types of Boolean operators?"
   ]
  },
  {
   "cell_type": "markdown",
   "id": "193f16f3",
   "metadata": {},
   "source": [
    "### Ans2. \n",
    "\n",
    "1. AND 'and'\n",
    "\n",
    "2. OR  'or'\n",
    "\n",
    "3. Not 'not'"
   ]
  },
  {
   "cell_type": "markdown",
   "id": "70203982",
   "metadata": {},
   "source": [
    "### Q3. Make a list of each Boolean operator's truth tables (i.e. every possible combination of Boolean values for the operator and what it evaluate )."
   ]
  },
  {
   "cell_type": "markdown",
   "id": "697328c4",
   "metadata": {},
   "source": [
    "### Ans3.\n",
    "\n",
    "#### AND Truth Table\n",
    "\n",
    "| X\t    | and\t |  Y    | Returns |\n",
    "|-------|--------|-------|---------|\n",
    "| True\t| and\t | True\t | True    |\n",
    "| True\t| and\t | False | False   |\n",
    "| False\t| and\t | True\t | False   |\n",
    "| False\t| and\t | False | False   |\n",
    "\n",
    "#### OR Truth Table\n",
    "\n",
    "| X\t    | or\t |  Y    | Returns |\n",
    "|-------|--------|-------|---------|\n",
    "| True\t|  or\t | True\t | True    |\n",
    "| True\t|  or\t | False | True    |  \n",
    "| False\t|  or\t | True\t | True    |\n",
    "| False\t|  or\t | False | False   |\n",
    "\n",
    "#### NOT Truth Table\n",
    "| not\t | X\t   | Returns |\n",
    "|--------|---------|---------|\n",
    "| not\t | True\t   | False   |\n",
    "| not\t | False   | True    |\n",
    "\n",
    "#### == Truth Table\n",
    "| X\t    |  ==\t |  Y    | Returns |\n",
    "|-------|--------|-------|---------|\n",
    "|True\t|  ==\t | True  | True    | \n",
    "|True\t|  ==\t | False | False   |\n",
    "|False\t|  ==\t | True  | False   |\n",
    "|False\t|  ==\t | False | True    |"
   ]
  },
  {
   "cell_type": "markdown",
   "id": "c0fbc498",
   "metadata": {},
   "source": [
    "### Q4. What are the values of the following expressions?\n",
    "\n",
    "1. (5 > 4) and (3 == 5)\n",
    "\n",
    "2. not (5 > 4)\n",
    "\n",
    "3. (5 > 4) or (3 == 5)\n",
    "\n",
    "4. not ((5 > 4) or (3 == 5))\n",
    "\n",
    "5. (True and True) and (True == False)\n",
    "\n",
    "6. (not False) or (not True)\n"
   ]
  },
  {
   "cell_type": "markdown",
   "id": "1995d719",
   "metadata": {},
   "source": [
    "### Ans4. \n",
    "1. (5 > 4) and (3 == 5) ---> False\n",
    "2. not (5 > 4) ---> False\n",
    "3. (5 > 4) or (3 == 5) ---> True\n",
    "4. not ((5 > 4) or (3 == 5)) ---> False\n",
    "5. (True and True) and (True == False) ---> False\n",
    "6. (not False) or (not True) ---> True\n"
   ]
  },
  {
   "cell_type": "markdown",
   "id": "238def23",
   "metadata": {},
   "source": [
    "### Q5. What are the six comparison operators?"
   ]
  },
  {
   "cell_type": "markdown",
   "id": "e52d15ce",
   "metadata": {},
   "source": [
    "### Ans5.\n",
    "Six comparison operators are:-\n",
    "\n",
    "1. Less than ( < )\n",
    "2. Less than or equal to (<=)\n",
    "3. Greater than (>)\n",
    "4. Greater than or equal to (>=)\n",
    "5. Equal to ( == )\n",
    "6. Not equal to ( != )"
   ]
  },
  {
   "cell_type": "markdown",
   "id": "5801e21a",
   "metadata": {},
   "source": [
    "### Q6. How do you tell the difference between the equal to and assignment operators?Describe a condition and when you would use one."
   ]
  },
  {
   "cell_type": "markdown",
   "id": "fc894807",
   "metadata": {},
   "source": [
    "### Ans6. \n",
    "\n",
    "The '=' is an assignment operator is used to assign the value on the right to the variable on the left.\n",
    "\n",
    "The ‘==’ operator checks whether the two given operands are equal or not. If so, it returns true. Otherwise it returns false."
   ]
  },
  {
   "cell_type": "code",
   "execution_count": 1,
   "id": "73971ef6",
   "metadata": {},
   "outputs": [
    {
     "data": {
      "text/plain": [
       "False"
      ]
     },
     "execution_count": 1,
     "metadata": {},
     "output_type": "execute_result"
    }
   ],
   "source": [
    "#example\n",
    "\n",
    "a = 1  #value assigning\n",
    "b = 2  #value assigning\n",
    "\n",
    "a == b #checking equality "
   ]
  },
  {
   "cell_type": "markdown",
   "id": "b78d5394",
   "metadata": {},
   "source": [
    "### Q7. Identify the three blocks in this code:\n",
    "\n",
    " spam = 0\n",
    " \n",
    " if spam == 10:\n",
    " \n",
    " print('eggs')\n",
    " \n",
    " if spam > 5:\n",
    " \n",
    " print('bacon')\n",
    " \n",
    " else:\n",
    "\n",
    " print('ham')\n",
    " \n",
    " print('spam')\n",
    " \n",
    " print('spam')\n"
   ]
  },
  {
   "cell_type": "markdown",
   "id": "89bf0b45",
   "metadata": {},
   "source": [
    "### Ans7."
   ]
  },
  {
   "cell_type": "code",
   "execution_count": 2,
   "id": "7aee6c8a",
   "metadata": {},
   "outputs": [
    {
     "name": "stdout",
     "output_type": "stream",
     "text": [
      "ham\n",
      "spam\n",
      "spam\n"
     ]
    }
   ],
   "source": [
    "spam = 0\n",
    "\n",
    "if spam == 10: \n",
    "    print('eggs')   #block 1\n",
    "\n",
    "if spam > 5:   \n",
    "    print('bacon')  #block 2\n",
    "\n",
    "else:          \n",
    "    print('ham')    #block 3\n",
    "\n",
    "    print('spam')\n",
    "    \n",
    "    print('spam')"
   ]
  },
  {
   "cell_type": "markdown",
   "id": "dd890036",
   "metadata": {},
   "source": [
    "### Q8. Write code that prints Hello if 1 is stored in spam, prints Howdy if 2 is stored in spam, and prints Greetings! if anything else is stored in spam."
   ]
  },
  {
   "cell_type": "markdown",
   "id": "3636f3f0",
   "metadata": {},
   "source": [
    "### Ans8."
   ]
  },
  {
   "cell_type": "code",
   "execution_count": 3,
   "id": "b12e38a9",
   "metadata": {},
   "outputs": [],
   "source": [
    "spam = 2  #test assignmemt "
   ]
  },
  {
   "cell_type": "code",
   "execution_count": 4,
   "id": "fb180a36",
   "metadata": {},
   "outputs": [
    {
     "name": "stdout",
     "output_type": "stream",
     "text": [
      "Howdy\n"
     ]
    }
   ],
   "source": [
    "if spam == 1: \n",
    "    print(\"Hello\")\n",
    "\n",
    "elif spam == 2:\n",
    "    print(\"Howdy\")\n",
    "\n",
    "else:\n",
    "    print(\"Greetings! if anything else is stored in spam.\")"
   ]
  },
  {
   "cell_type": "markdown",
   "id": "5a830f61",
   "metadata": {},
   "source": [
    "### Q9. If your programme is stuck in an endless loop, what keys you’ll press?"
   ]
  },
  {
   "cell_type": "markdown",
   "id": "22ae2308",
   "metadata": {},
   "source": [
    "### Ans9. \n",
    "Ctrl + C"
   ]
  },
  {
   "cell_type": "markdown",
   "id": "3fbad295",
   "metadata": {},
   "source": [
    "### Q10. How can you tell the difference between break and continue?"
   ]
  },
  {
   "cell_type": "markdown",
   "id": "d56de14e",
   "metadata": {},
   "source": [
    "### Ans10.\n",
    "The break statement terminates the whole iteration of a loop whereas continue skips the current iteration."
   ]
  },
  {
   "cell_type": "markdown",
   "id": "1cc44a6f",
   "metadata": {},
   "source": [
    "### Q11. In a for loop, what is the difference between range(10), range(0, 10), and range(0, 10, 1)?"
   ]
  },
  {
   "cell_type": "markdown",
   "id": "63d27cb8",
   "metadata": {},
   "source": [
    "### Ans11.\n",
    "\n",
    "In range(10) :- only ending index is given, so it starts function from zero index by default.\n",
    "\n",
    "In range(0,10) :- 0 is start index and 10 is end index, so both start and end point is given.\n",
    "\n",
    "In range(0,10,1) :- 1 is step to be used while going from index 0 to 10."
   ]
  },
  {
   "cell_type": "markdown",
   "id": "e62d3dd3",
   "metadata": {},
   "source": [
    "### Q12. Write a short program that prints the numbers 1 to 10 using a for loop. Then write an equivalent program that prints the numbers 1 to 10 using a while loop."
   ]
  },
  {
   "cell_type": "markdown",
   "id": "a75b2363",
   "metadata": {},
   "source": [
    "### Ans12."
   ]
  },
  {
   "cell_type": "code",
   "execution_count": 6,
   "id": "a332dd4c",
   "metadata": {},
   "outputs": [
    {
     "name": "stdout",
     "output_type": "stream",
     "text": [
      "1\n",
      "2\n",
      "3\n",
      "4\n",
      "5\n",
      "6\n",
      "7\n",
      "8\n",
      "9\n",
      "10\n"
     ]
    }
   ],
   "source": [
    "#program using 'for' loop\n",
    "\n",
    "for i in range(1, 11):\n",
    "    print(i)"
   ]
  },
  {
   "cell_type": "code",
   "execution_count": 7,
   "id": "1005c210",
   "metadata": {},
   "outputs": [
    {
     "name": "stdout",
     "output_type": "stream",
     "text": [
      "1\n",
      "2\n",
      "3\n",
      "4\n",
      "5\n",
      "6\n",
      "7\n",
      "8\n",
      "9\n",
      "10\n"
     ]
    }
   ],
   "source": [
    "#program using 'while' loop\n",
    "\n",
    "i = 1\n",
    "while(i<=10):\n",
    "    print(i)\n",
    "    i += 1"
   ]
  },
  {
   "cell_type": "markdown",
   "id": "6080e1a8",
   "metadata": {},
   "source": [
    "### Q13. If you had a function named bacon() inside a module named spam, how would you call it after importing spam?"
   ]
  },
  {
   "cell_type": "markdown",
   "id": "82320c7d",
   "metadata": {},
   "source": [
    "### Ans13. \n",
    "We can use the functions inside a module by using a dot(.) operator along with the module name. example -\n",
    "\n",
    "import spam\n",
    "\n",
    "spam.bacon() #Use dot operator to access bacon() inside module \"spam\""
   ]
  }
 ],
 "metadata": {
  "kernelspec": {
   "display_name": "Python 3 (ipykernel)",
   "language": "python",
   "name": "python3"
  },
  "language_info": {
   "codemirror_mode": {
    "name": "ipython",
    "version": 3
   },
   "file_extension": ".py",
   "mimetype": "text/x-python",
   "name": "python",
   "nbconvert_exporter": "python",
   "pygments_lexer": "ipython3",
   "version": "3.9.13"
  }
 },
 "nbformat": 4,
 "nbformat_minor": 5
}
