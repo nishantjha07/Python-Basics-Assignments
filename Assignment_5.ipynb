{
 "cells": [
  {
   "cell_type": "markdown",
   "id": "5863bb4d",
   "metadata": {},
   "source": [
    "### Q1. What does an empty dictionary's code look like?"
   ]
  },
  {
   "cell_type": "markdown",
   "id": "31ed619b",
   "metadata": {},
   "source": [
    "### Ans1.\n",
    "empty_dict = {}\n"
   ]
  },
  {
   "cell_type": "markdown",
   "id": "5caf52d3",
   "metadata": {},
   "source": [
    "### Q2. What is the value of a dictionary value with the key 'foo' and the value 42?"
   ]
  },
  {
   "cell_type": "markdown",
   "id": "b0b92b3a",
   "metadata": {},
   "source": [
    "### Ans2. "
   ]
  },
  {
   "cell_type": "code",
   "execution_count": 1,
   "id": "d13c8497",
   "metadata": {},
   "outputs": [
    {
     "name": "stdout",
     "output_type": "stream",
     "text": [
      "42\n"
     ]
    }
   ],
   "source": [
    "my_dict = {'foo': 42}\n",
    "value = my_dict['foo']\n",
    "\n",
    "print(value)"
   ]
  },
  {
   "cell_type": "markdown",
   "id": "65925b40",
   "metadata": {},
   "source": [
    "### Q3. What is the most significant distinction between a dictionary and a list?"
   ]
  },
  {
   "cell_type": "markdown",
   "id": "1f025aad",
   "metadata": {},
   "source": [
    "### Ans3. \n",
    "- Dictionaries are used for mapping keys to values and provide efficient lookups based on keys.\n",
    "- Lists are used for storing ordered collections of elements and provide access based on indices"
   ]
  },
  {
   "cell_type": "markdown",
   "id": "6f6a78bf",
   "metadata": {},
   "source": [
    "### Q4. What happens if you try to access spam['foo'] if spam is {'bar': 100}?"
   ]
  },
  {
   "cell_type": "markdown",
   "id": "0159a38b",
   "metadata": {},
   "source": [
    "### Ans4.\n",
    "It'll cause error"
   ]
  },
  {
   "cell_type": "code",
   "execution_count": 3,
   "id": "9a51753a",
   "metadata": {},
   "outputs": [
    {
     "ename": "KeyError",
     "evalue": "'foo'",
     "output_type": "error",
     "traceback": [
      "\u001b[1;31m---------------------------------------------------------------------------\u001b[0m",
      "\u001b[1;31mKeyError\u001b[0m                                  Traceback (most recent call last)",
      "\u001b[1;32m~\\AppData\\Local\\Temp\\ipykernel_26616\\2800925157.py\u001b[0m in \u001b[0;36m<module>\u001b[1;34m\u001b[0m\n\u001b[0;32m      1\u001b[0m \u001b[0mspam\u001b[0m \u001b[1;33m=\u001b[0m \u001b[1;33m{\u001b[0m\u001b[1;34m'bar'\u001b[0m\u001b[1;33m:\u001b[0m \u001b[1;36m100\u001b[0m\u001b[1;33m}\u001b[0m\u001b[1;33m\u001b[0m\u001b[1;33m\u001b[0m\u001b[0m\n\u001b[1;32m----> 2\u001b[1;33m \u001b[0mspam\u001b[0m\u001b[1;33m[\u001b[0m\u001b[1;34m\"foo\"\u001b[0m\u001b[1;33m]\u001b[0m\u001b[1;33m\u001b[0m\u001b[1;33m\u001b[0m\u001b[0m\n\u001b[0m",
      "\u001b[1;31mKeyError\u001b[0m: 'foo'"
     ]
    }
   ],
   "source": [
    "spam = {'bar': 100}\n",
    "spam[\"foo\"]"
   ]
  },
  {
   "cell_type": "markdown",
   "id": "7611d5bb",
   "metadata": {},
   "source": [
    "### Q5. If a dictionary is stored in spam, what is the difference between the expressions 'cat' in spam and 'cat' in spam.keys()?"
   ]
  },
  {
   "cell_type": "markdown",
   "id": "82e9f7b0",
   "metadata": {},
   "source": [
    "### Ans5.\n"
   ]
  },
  {
   "cell_type": "code",
   "execution_count": 4,
   "id": "1cf214f2",
   "metadata": {},
   "outputs": [
    {
     "name": "stdout",
     "output_type": "stream",
     "text": [
      "True\n"
     ]
    }
   ],
   "source": [
    "# 'cat' in spam\n",
    "\n",
    "spam = {'cat': 4, 'dog': 8}\n",
    "\n",
    "print('cat' in spam)  \n"
   ]
  },
  {
   "cell_type": "code",
   "execution_count": 8,
   "id": "0f4ec444",
   "metadata": {},
   "outputs": [
    {
     "name": "stdout",
     "output_type": "stream",
     "text": [
      "True\n"
     ]
    }
   ],
   "source": [
    "# 'cat' in spam.keys()\n",
    "\n",
    "spam = {'cat': 4, 'dog': 8}\n",
    "\n",
    "print('cat' in spam.keys())  "
   ]
  },
  {
   "cell_type": "markdown",
   "id": "7f698679",
   "metadata": {},
   "source": [
    "### Q6. If a dictionary is stored in spam, what is the difference between the expressions 'cat' in spam and 'cat' in spam.values()?"
   ]
  },
  {
   "cell_type": "markdown",
   "id": "ff11e744",
   "metadata": {},
   "source": [
    "### Ans6. \n",
    "'cat' in spam:\n",
    "\n",
    "- This expression checks if the string 'cat' exists as a key in the dictionary spam.\n",
    "- If 'cat' is a key in spam, it will return True.\n",
    "- If 'cat' is not a key in spam, it will return False.\n",
    "\n",
    "'cat' in spam.values():\n",
    "\n",
    "- This expression checks if the string 'cat' exists as a value in the dictionary spam.\n",
    "- If 'cat' is a value in any of the key-value pairs in spam, it will return True.\n",
    "- If 'cat' is not a value in any of the key-value pairs in spam, it will return False."
   ]
  },
  {
   "cell_type": "markdown",
   "id": "a5c978f1",
   "metadata": {},
   "source": [
    "### Q7. What is a shortcut for the following code?\n",
    "### if 'color' not in spam:\n",
    "### spam['color'] = 'black'\n"
   ]
  },
  {
   "cell_type": "markdown",
   "id": "7c82408a",
   "metadata": {},
   "source": [
    "### Ans7.\n",
    "If 'color' not in spam:\n",
    "\n",
    "spam['color'] = 'black'\n",
    "\n",
    "- Shortcut for this code is\n",
    "\n",
    "spam.setdefault('color', 'black')"
   ]
  },
  {
   "cell_type": "markdown",
   "id": "0584c554",
   "metadata": {},
   "source": [
    "### Q8. How do you \"pretty print\" dictionary values using which module and function?\n"
   ]
  },
  {
   "cell_type": "markdown",
   "id": "07aa70f1",
   "metadata": {},
   "source": [
    "### Ans8. \n",
    "We can \"pretty print\" dictionary values in Python using the 'json' module's 'json.dumps()' function with the 'indent' parameter.\n"
   ]
  },
  {
   "cell_type": "code",
   "execution_count": 4,
   "id": "9b221251",
   "metadata": {},
   "outputs": [
    {
     "name": "stdout",
     "output_type": "stream",
     "text": [
      "{\n",
      "    \"name\": \"Nishant\",\n",
      "    \"age\": 24,\n",
      "    \"city\": \"new Delhi\"\n",
      "}\n"
     ]
    }
   ],
   "source": [
    "#example \n",
    "import json\n",
    "\n",
    "# Your dictionary\n",
    "my_dict = {\n",
    "    \"name\": \"Nishant\",\n",
    "    \"age\": 24,\n",
    "    \"city\": \"new Delhi\"\n",
    "}\n",
    "\n",
    "# Pretty print the dictionary\n",
    "pretty_json = json.dumps(my_dict, indent=4)\n",
    "\n",
    "# Print the formatted JSON string\n",
    "print(pretty_json)"
   ]
  }
 ],
 "metadata": {
  "kernelspec": {
   "display_name": "Python 3 (ipykernel)",
   "language": "python",
   "name": "python3"
  },
  "language_info": {
   "codemirror_mode": {
    "name": "ipython",
    "version": 3
   },
   "file_extension": ".py",
   "mimetype": "text/x-python",
   "name": "python",
   "nbconvert_exporter": "python",
   "pygments_lexer": "ipython3",
   "version": "3.9.13"
  }
 },
 "nbformat": 4,
 "nbformat_minor": 5
}
