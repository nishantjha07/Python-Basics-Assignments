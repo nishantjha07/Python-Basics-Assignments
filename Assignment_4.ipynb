{
 "cells": [
  {
   "cell_type": "markdown",
   "id": "d207fdb8",
   "metadata": {},
   "source": [
    "### Q1. What exactly is [] ?"
   ]
  },
  {
   "cell_type": "markdown",
   "id": "82e5cf20",
   "metadata": {},
   "source": [
    "### Ans1.\n",
    "In many programming languages, [] represents an empty list or array.\n",
    "\n",
    "In python '[]' is an empty list.\n"
   ]
  },
  {
   "cell_type": "markdown",
   "id": "ba2b0a2e",
   "metadata": {},
   "source": [
    "### Q2. In a list of values stored in a variable called spam, how would you assign the value &#39;hello&#39; as the third value? (Assume [2, 4, 6, 8, 10] are in spam.)"
   ]
  },
  {
   "cell_type": "markdown",
   "id": "0b7800a0",
   "metadata": {},
   "source": [
    "### Ans2."
   ]
  },
  {
   "cell_type": "code",
   "execution_count": 2,
   "id": "c09e7ddb",
   "metadata": {},
   "outputs": [
    {
     "data": {
      "text/plain": [
       "[2, 4, 'hello', 8, 10]"
      ]
     },
     "execution_count": 2,
     "metadata": {},
     "output_type": "execute_result"
    }
   ],
   "source": [
    "spam = [2,4,6,8,10]\n",
    "spam[2] = 'hello' \n",
    "spam"
   ]
  },
  {
   "cell_type": "markdown",
   "id": "c5156b9f",
   "metadata": {},
   "source": [
    "## Let's pretend the spam includes the list ['a','b','c','d'] for the next three queries."
   ]
  },
  {
   "cell_type": "markdown",
   "id": "fc9c0150",
   "metadata": {},
   "source": [
    "### Q3. What is the value of spam[int(int('3' * 2) / 11)]?"
   ]
  },
  {
   "cell_type": "markdown",
   "id": "54482489",
   "metadata": {},
   "source": [
    "### Ans3."
   ]
  },
  {
   "cell_type": "code",
   "execution_count": 3,
   "id": "3c0369ab",
   "metadata": {},
   "outputs": [],
   "source": [
    "spam = ['a','b','c','d']"
   ]
  },
  {
   "cell_type": "code",
   "execution_count": 4,
   "id": "8d9eb1b9",
   "metadata": {},
   "outputs": [
    {
     "data": {
      "text/plain": [
       "'d'"
      ]
     },
     "execution_count": 4,
     "metadata": {},
     "output_type": "execute_result"
    }
   ],
   "source": [
    "spam[int(int('3' * 2) / 11)]"
   ]
  },
  {
   "cell_type": "markdown",
   "id": "ecf0dde4",
   "metadata": {},
   "source": [
    "### Q4. What is the value of spam[-1]?"
   ]
  },
  {
   "cell_type": "markdown",
   "id": "57b183fc",
   "metadata": {},
   "source": [
    "### Ans4."
   ]
  },
  {
   "cell_type": "code",
   "execution_count": 5,
   "id": "28597b30",
   "metadata": {},
   "outputs": [
    {
     "data": {
      "text/plain": [
       "'d'"
      ]
     },
     "execution_count": 5,
     "metadata": {},
     "output_type": "execute_result"
    }
   ],
   "source": [
    "spam[-1]"
   ]
  },
  {
   "cell_type": "markdown",
   "id": "52df3967",
   "metadata": {},
   "source": [
    "### Q5. What is the value of spam[:2]?"
   ]
  },
  {
   "cell_type": "markdown",
   "id": "35102f93",
   "metadata": {},
   "source": [
    "### Ans5. "
   ]
  },
  {
   "cell_type": "code",
   "execution_count": 6,
   "id": "1d4e5866",
   "metadata": {},
   "outputs": [
    {
     "data": {
      "text/plain": [
       "['a', 'b']"
      ]
     },
     "execution_count": 6,
     "metadata": {},
     "output_type": "execute_result"
    }
   ],
   "source": [
    "spam[:2]"
   ]
  },
  {
   "cell_type": "markdown",
   "id": "2fb38791",
   "metadata": {},
   "source": [
    "##  Let's pretend bacon has the list [3.14, 'cat,' 11, 'cat,' True] for the next three questions."
   ]
  },
  {
   "cell_type": "code",
   "execution_count": 7,
   "id": "c421fa2d",
   "metadata": {},
   "outputs": [],
   "source": [
    "bacon = [3.14,'cat','11','cat',True]"
   ]
  },
  {
   "cell_type": "markdown",
   "id": "db5dd0de",
   "metadata": {},
   "source": [
    "### Q6. What is the value of bacon.index('cat')?"
   ]
  },
  {
   "cell_type": "markdown",
   "id": "7b1803d1",
   "metadata": {},
   "source": [
    "### Ans6. "
   ]
  },
  {
   "cell_type": "code",
   "execution_count": 8,
   "id": "eb8d8497",
   "metadata": {},
   "outputs": [
    {
     "data": {
      "text/plain": [
       "1"
      ]
     },
     "execution_count": 8,
     "metadata": {},
     "output_type": "execute_result"
    }
   ],
   "source": [
    "bacon.index('cat')"
   ]
  },
  {
   "cell_type": "markdown",
   "id": "5d4ed47d",
   "metadata": {},
   "source": [
    "### Q7. How does bacon.append(99) change the look of the list value in bacon?\n"
   ]
  },
  {
   "cell_type": "markdown",
   "id": "e16c37fe",
   "metadata": {},
   "source": [
    "### Ans7.\n",
    "bacon.append(99) will add 99 in the end of the list."
   ]
  },
  {
   "cell_type": "markdown",
   "id": "5890e991",
   "metadata": {},
   "source": [
    "### Q8. How does bacon.remove('cat') change the look of the list in bacon?"
   ]
  },
  {
   "cell_type": "markdown",
   "id": "c2016c99",
   "metadata": {},
   "source": [
    "### Ans8. \n",
    "bacon.remove('cat') will remove 'cat' from the list.\n"
   ]
  },
  {
   "cell_type": "markdown",
   "id": "cf26d88b",
   "metadata": {},
   "source": [
    "### Q9. What are the list concatenation and list replication operators?"
   ]
  },
  {
   "cell_type": "markdown",
   "id": "c9172b7d",
   "metadata": {},
   "source": [
    "### Ans9. \n",
    "List Concatenation: '+' \n",
    "\n",
    "You can concatenate two lists by using the + operator. This creates a new list containing the elements of both lists.\n",
    "Example:-"
   ]
  },
  {
   "cell_type": "code",
   "execution_count": 14,
   "id": "f847ad1e",
   "metadata": {},
   "outputs": [
    {
     "name": "stdout",
     "output_type": "stream",
     "text": [
      "[0, 1, 2, 3, 4, 5]\n"
     ]
    }
   ],
   "source": [
    "list1 = [0, 1, 2]\n",
    "list2 = [3, 4, 5]\n",
    "result = list1 + list2\n",
    "\n",
    "print(result)  \n"
   ]
  },
  {
   "cell_type": "markdown",
   "id": "2558f33e",
   "metadata": {},
   "source": [
    "List Replication: '*'\n",
    "\n",
    "You can replicate a list by using the * operator. This creates a new list where the original list is repeated a specified number of times. Example:-\n"
   ]
  },
  {
   "cell_type": "code",
   "execution_count": 15,
   "id": "e0791ff8",
   "metadata": {},
   "outputs": [
    {
     "name": "stdout",
     "output_type": "stream",
     "text": [
      "[1, 2, 3, 1, 2, 3, 1, 2, 3, 1, 2, 3, 1, 2, 3, 1, 2, 3, 1, 2, 3]\n"
     ]
    }
   ],
   "source": [
    "list1 = [1, 2, 3]\n",
    "result = list1 * 7\n",
    "\n",
    "print(result)\n"
   ]
  },
  {
   "cell_type": "markdown",
   "id": "fcaabf61",
   "metadata": {},
   "source": [
    "### Q10. What is difference between the list methods append() and insert()?"
   ]
  },
  {
   "cell_type": "markdown",
   "id": "bf331073",
   "metadata": {},
   "source": [
    "### Ans10.\n",
    "'append()' :- adds a single element at the end of the list.\n",
    "example:-"
   ]
  },
  {
   "cell_type": "code",
   "execution_count": 16,
   "id": "b73d63d8",
   "metadata": {},
   "outputs": [
    {
     "name": "stdout",
     "output_type": "stream",
     "text": [
      "[1, 1, 1, 1]\n"
     ]
    }
   ],
   "source": [
    "my_list = [1,1,1]\n",
    "my_list.append(1)\n",
    "\n",
    "print(my_list)"
   ]
  },
  {
   "cell_type": "markdown",
   "id": "266193c8",
   "metadata": {},
   "source": [
    "'insert ()' :- inserts a single element at a specified position in the list.\n",
    "example:-"
   ]
  },
  {
   "cell_type": "code",
   "execution_count": 18,
   "id": "db0e7dd9",
   "metadata": {},
   "outputs": [
    {
     "name": "stdout",
     "output_type": "stream",
     "text": [
      "[1, 2, 1, 1]\n"
     ]
    }
   ],
   "source": [
    "my_list = [1,1,1]\n",
    "my_list.insert(1,2) # (index, element)\n",
    "\n",
    "print(my_list)"
   ]
  },
  {
   "cell_type": "markdown",
   "id": "07068b88",
   "metadata": {},
   "source": [
    "### Q11. What are the two methods for removing items from a list?"
   ]
  },
  {
   "cell_type": "markdown",
   "id": "b3cc5c2e",
   "metadata": {},
   "source": [
    "### Ans11. \n",
    "The two methods for removing items from a list are\n",
    "\n",
    "1. remove() - it removes the first occurance of the specific element from the list example:-\n",
    "\n"
   ]
  },
  {
   "cell_type": "code",
   "execution_count": 19,
   "id": "dd12aa40",
   "metadata": {},
   "outputs": [
    {
     "name": "stdout",
     "output_type": "stream",
     "text": [
      "[7, 8, 6, 9]\n"
     ]
    }
   ],
   "source": [
    "my_list = [6,7,8,6,9]\n",
    "my_list.remove(6)  # Removes the first occurrence of 6\n",
    "\n",
    "print(my_list)  \n"
   ]
  },
  {
   "cell_type": "markdown",
   "id": "07ef18fb",
   "metadata": {},
   "source": [
    "2. pop() - it removes the element of the specific index from the list.\n",
    "example:-"
   ]
  },
  {
   "cell_type": "code",
   "execution_count": 20,
   "id": "b84b6c35",
   "metadata": {},
   "outputs": [
    {
     "name": "stdout",
     "output_type": "stream",
     "text": [
      "3\n",
      "[1, 2, 4]\n"
     ]
    }
   ],
   "source": [
    "my_list = [1, 2, 3, 4]\n",
    "item = my_list.pop(2)  # Removes and returns the item at index 2\n",
    "\n",
    "print(item)  \n",
    "\n",
    "print(my_list)  \n"
   ]
  },
  {
   "cell_type": "markdown",
   "id": "2d7017c9",
   "metadata": {},
   "source": [
    "### Q12.  Describe how list values and string values are identical."
   ]
  },
  {
   "cell_type": "markdown",
   "id": "af5210bb",
   "metadata": {},
   "source": [
    "### Ans12.\n",
    "- Both lists and strings are sequential collections of values. They preserve the order of their elements, allowing you to access individual elements by their index positions.\n",
    "\n",
    "- Both lists and strings can be indexed using integer positions. You can access specific elements by referring to their index numbers, starting from 0."
   ]
  },
  {
   "cell_type": "markdown",
   "id": "bd61db24",
   "metadata": {},
   "source": [
    "### Q13. What's the difference between tuples and lists?"
   ]
  },
  {
   "cell_type": "markdown",
   "id": "0c9d3661",
   "metadata": {},
   "source": [
    "### Ans13. \n",
    "- Tuples are represented by () and lists are represented by []. \n",
    "- Main difference between lists and tuples is - Tuples are immutable, meaning their elements cannot be modified once they are assigned. while, lists are mutable, allowing you to modify, add, or remove elements."
   ]
  },
  {
   "cell_type": "markdown",
   "id": "84212977",
   "metadata": {},
   "source": [
    "### Q14. How do you type a tuple value that only contains the integer 42?"
   ]
  },
  {
   "cell_type": "markdown",
   "id": "385b90e7",
   "metadata": {},
   "source": [
    "### Ans14. "
   ]
  },
  {
   "cell_type": "code",
   "execution_count": 21,
   "id": "0118517d",
   "metadata": {},
   "outputs": [],
   "source": [
    "tuple_example = (42,)"
   ]
  },
  {
   "cell_type": "markdown",
   "id": "fe2dbe2c",
   "metadata": {},
   "source": [
    "### Q15. How do you get a list value's tuple form? How do you get a tuple value's list form?"
   ]
  },
  {
   "cell_type": "markdown",
   "id": "f7a23441",
   "metadata": {},
   "source": [
    "### Ans15."
   ]
  },
  {
   "cell_type": "code",
   "execution_count": 25,
   "id": "9ae87b33",
   "metadata": {},
   "outputs": [
    {
     "name": "stdout",
     "output_type": "stream",
     "text": [
      "(2, 3, 2, 3)\n"
     ]
    }
   ],
   "source": [
    "tuple_1 = (1,2,1,2)\n",
    "list_1 = [2,3,2,3]\n",
    "\n",
    "#to get a list value's tuple form\n",
    "\n",
    "tuple_2 = tuple(list_1)\n",
    "print(tuple_2)\n"
   ]
  },
  {
   "cell_type": "code",
   "execution_count": 26,
   "id": "03b76cc4",
   "metadata": {},
   "outputs": [
    {
     "name": "stdout",
     "output_type": "stream",
     "text": [
      "[1, 2, 1, 2]\n"
     ]
    }
   ],
   "source": [
    "#to get a tipe value's list form\n",
    "\n",
    "list_2 = list(tuple_1)\n",
    "print(list_2)"
   ]
  },
  {
   "cell_type": "markdown",
   "id": "ba11fa62",
   "metadata": {},
   "source": [
    "###  Q16. Variables that \"contain\" list values are not necessarily lists themselves. Instead, what do they contain?"
   ]
  },
  {
   "cell_type": "markdown",
   "id": "e91340ff",
   "metadata": {},
   "source": [
    "### Ans16. \n",
    "- Variables that \"contain\" list values are not necessarily lists themselves, but rather a reference to the list object. Variables are essentially labels or names that reference objects in memory.\n",
    "\n",
    "- When you assign a list to a variable, the variable is bound to the memory address where the list object is stored. This means that the variable holds a reference or pointer to the list object, rather than directly containing the list's elements."
   ]
  },
  {
   "cell_type": "markdown",
   "id": "3bc1050f",
   "metadata": {},
   "source": [
    "### Q17. How do you distinguish between copy.copy() and copy.deepcopy()?"
   ]
  },
  {
   "cell_type": "markdown",
   "id": "dc5d6c0e",
   "metadata": {},
   "source": [
    "### Ans17. \n",
    "by the following code we can distingusih between them\n"
   ]
  },
  {
   "cell_type": "code",
   "execution_count": 33,
   "id": "cbdae370",
   "metadata": {},
   "outputs": [
    {
     "name": "stdout",
     "output_type": "stream",
     "text": [
      "[1, [200, 1]]\n",
      "[100, [200, 1]]\n"
     ]
    }
   ],
   "source": [
    "# 'copy.copy()'\n",
    "\n",
    "original = [1, [1, 1]]\n",
    "shallow_copy = copy.copy(original)\n",
    "\n",
    "shallow_copy[0] = 100\n",
    "shallow_copy[1][0] = 200\n",
    "\n",
    "print(original)        \n",
    "\n",
    "print(shallow_copy)   \n"
   ]
  },
  {
   "cell_type": "code",
   "execution_count": 34,
   "id": "225a42e4",
   "metadata": {},
   "outputs": [
    {
     "name": "stdout",
     "output_type": "stream",
     "text": [
      "[2, [2, 2]]\n",
      "[200, [100, 2]]\n"
     ]
    }
   ],
   "source": [
    "# 'copy.deepcopy()'\n",
    "\n",
    "\n",
    "original = [2, [2, 2]]\n",
    "deep_copy = copy.deepcopy(original)\n",
    "\n",
    "deep_copy[0] = 200\n",
    "deep_copy[1][0] = 100\n",
    "\n",
    "print(original)        \n",
    "\n",
    "print(deep_copy)      \n"
   ]
  }
 ],
 "metadata": {
  "kernelspec": {
   "display_name": "Python 3 (ipykernel)",
   "language": "python",
   "name": "python3"
  },
  "language_info": {
   "codemirror_mode": {
    "name": "ipython",
    "version": 3
   },
   "file_extension": ".py",
   "mimetype": "text/x-python",
   "name": "python",
   "nbconvert_exporter": "python",
   "pygments_lexer": "ipython3",
   "version": "3.9.13"
  }
 },
 "nbformat": 4,
 "nbformat_minor": 5
}
