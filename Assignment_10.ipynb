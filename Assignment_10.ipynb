{
 "cells": [
  {
   "cell_type": "markdown",
   "id": "422a0050",
   "metadata": {},
   "source": [
    "### Q1. How do you distinguish between shutil.copy() and shutil.copytree()?"
   ]
  },
  {
   "cell_type": "markdown",
   "id": "477426a7",
   "metadata": {},
   "source": [
    "### Ans1. \n",
    "- shutil.copy(): This function is used to copy a single file from a source to a destination.\n",
    "\n",
    "- shutil.copytree(): This function is used to copy an entire directory tree (all files and subdirectories) from a source to a destination."
   ]
  },
  {
   "cell_type": "markdown",
   "id": "89376abf",
   "metadata": {},
   "source": [
    "### Q2. What function is used to rename files?"
   ]
  },
  {
   "cell_type": "markdown",
   "id": "9f324b6b",
   "metadata": {},
   "source": [
    "### Ans2. \n",
    "The 'os.rename()' function is used to rename files."
   ]
  },
  {
   "cell_type": "markdown",
   "id": "938cbee2",
   "metadata": {},
   "source": [
    "### Q3. What is the difference between the delete functions in the send2trash and shutil modules?"
   ]
  },
  {
   "cell_type": "markdown",
   "id": "58955d66",
   "metadata": {},
   "source": [
    "### Ans3. \n",
    "- send2trash: This module’s function sends files or directories to the operating system's trash or recycle bin, allowing for potential recovery.\n",
    "\n",
    "- shutil: The shutil.rmtree() function deletes files or directories permanently, meaning they cannot be recovered from the trash or recycle bin."
   ]
  },
  {
   "cell_type": "markdown",
   "id": "d7b5a79d",
   "metadata": {},
   "source": [
    "### Q4. ZipFile objects have a close() method just like File objects’ close() method. What ZipFile method is equivalent to File objects’ open() method?"
   ]
  },
  {
   "cell_type": "markdown",
   "id": "ab37030b",
   "metadata": {},
   "source": [
    "### Ans4. \n",
    "The ZipFile() constructor is equivalent to the open() method for file objects. \n",
    "\n",
    "It is used to open a ZIP file for reading or writing."
   ]
  },
  {
   "cell_type": "markdown",
   "id": "f1acef6c",
   "metadata": {},
   "source": [
    "### Q5. Create a programme that searches a folder tree for files with a certain file extension (such as .pdf or .jpg). Copy these files from whatever location they are in to a new folder."
   ]
  },
  {
   "cell_type": "markdown",
   "id": "6a653bee",
   "metadata": {},
   "source": [
    "### Ans5."
   ]
  },
  {
   "cell_type": "code",
   "execution_count": 1,
   "id": "2a353e96",
   "metadata": {},
   "outputs": [],
   "source": [
    "import os\n",
    "import shutil\n",
    "\n",
    "def copy_files_with_extension(src_folder, dest_folder, extension):\n",
    "    if not os.path.exists(dest_folder):\n",
    "        os.makedirs(dest_folder)\n",
    "    \n",
    "    for foldername, subfolders, filenames in os.walk(src_folder):\n",
    "        for filename in filenames:\n",
    "            if filename.endswith(extension):\n",
    "                file_path = os.path.join(foldername, filename)\n",
    "                shutil.copy(file_path, dest_folder)\n",
    "\n",
    "# Example usage:\n",
    "source_folder = '/path/to/source/folder'\n",
    "destination_folder = '/path/to/destination/folder'\n",
    "file_extension = '.pdf'  # Change this to the desired extension\n",
    "\n",
    "copy_files_with_extension(source_folder, destination_folder, file_extension)\n"
   ]
  },
  {
   "cell_type": "markdown",
   "id": "33789a6d",
   "metadata": {},
   "source": [
    "### How It Works:\n",
    "- Check/Create Destination Folder: The script first ensures that the destination folder exists. If it doesn't, it creates it.\n",
    "\n",
    "- Traverse Source Folder: Using os.walk(), the script traverses the directory tree of the source folder. It yields tuples containing the directory path, directory names, and filenames.\n",
    "\n",
    "- File Extension Check: For each file, it checks if the file extension matches the desired extension. It uses .lower() to handle case-insensitivity.\n",
    "\n",
    "- Copy Files: If a file matches the extension, it constructs the full path and copies the file to the destination folder using shutil.copy().\n",
    "\n",
    "- Print Status: The script prints the path of each file that is copied, so you know what has been processed."
   ]
  }
 ],
 "metadata": {
  "kernelspec": {
   "display_name": "Python 3 (ipykernel)",
   "language": "python",
   "name": "python3"
  },
  "language_info": {
   "codemirror_mode": {
    "name": "ipython",
    "version": 3
   },
   "file_extension": ".py",
   "mimetype": "text/x-python",
   "name": "python",
   "nbconvert_exporter": "python",
   "pygments_lexer": "ipython3",
   "version": "3.9.13"
  }
 },
 "nbformat": 4,
 "nbformat_minor": 5
}
