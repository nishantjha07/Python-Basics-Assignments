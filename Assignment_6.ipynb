{
 "cells": [
  {
   "cell_type": "markdown",
   "id": "559c4dbb",
   "metadata": {},
   "source": [
    "### Q1. What are escape characters, and how do you use them?"
   ]
  },
  {
   "cell_type": "markdown",
   "id": "aa1df7de",
   "metadata": {},
   "source": [
    "### Ans1. \n",
    "Escape characters in programming are special sequences of characters used to represent characters that cannot be easily typed or that have special meanings in the language.\n",
    "\n",
    "Escape characters are preceded by a backslash \\ and are followed by the character you want to represent."
   ]
  },
  {
   "cell_type": "markdown",
   "id": "92f78da2",
   "metadata": {},
   "source": [
    "### Q2. What do the escape characters n and t stand for?\n"
   ]
  },
  {
   "cell_type": "markdown",
   "id": "cc0b9636",
   "metadata": {},
   "source": [
    "### Ans2. \n",
    "- n stands for Newline\n",
    "\n",
    "- t stands for Tab"
   ]
  },
  {
   "cell_type": "markdown",
   "id": "5805ca47",
   "metadata": {},
   "source": [
    "### Q3. What is the way to include backslash characters in a string?"
   ]
  },
  {
   "cell_type": "markdown",
   "id": "989198ba",
   "metadata": {},
   "source": [
    "### Ans3. \n",
    "There are several ways to include backslash characters in a string \n"
   ]
  },
  {
   "cell_type": "code",
   "execution_count": 1,
   "id": "7c33108b",
   "metadata": {},
   "outputs": [
    {
     "name": "stdout",
     "output_type": "stream",
     "text": [
      "C:\\Movies\\NewFolder\n"
     ]
    }
   ],
   "source": [
    "#1.Using Double Backslashes\n",
    "\n",
    "path = \"C:\\\\Movies\\\\NewFolder\"\n",
    "print(path)\n",
    "\n"
   ]
  },
  {
   "cell_type": "code",
   "execution_count": 2,
   "id": "474622cc",
   "metadata": {},
   "outputs": [
    {
     "name": "stdout",
     "output_type": "stream",
     "text": [
      "C:\\Songs\\NewFolder\n"
     ]
    }
   ],
   "source": [
    "#2.Using Raw Strings\n",
    "\n",
    "path = r\"C:\\Songs\\NewFolder\"\n",
    "print(path)\n"
   ]
  },
  {
   "cell_type": "code",
   "execution_count": 3,
   "id": "effe5d59",
   "metadata": {},
   "outputs": [
    {
     "name": "stdout",
     "output_type": "stream",
     "text": [
      "This is a backslash: \\\\\n"
     ]
    }
   ],
   "source": [
    "#3. Using a String with a Single Backslash\n",
    "\n",
    "text = \"This is a backslash: \\\\\\\\\"\n",
    "print(text)\n"
   ]
  },
  {
   "cell_type": "markdown",
   "id": "9e6a3862",
   "metadata": {},
   "source": [
    "### Q4. The string \"Howl's Moving Castle\" is a correct value. Why isn't the single quote character in the word Howl's not escaped a problem?"
   ]
  },
  {
   "cell_type": "markdown",
   "id": "09d0aadf",
   "metadata": {},
   "source": [
    "### Ans4. \n",
    "In the string \"Howl's Moving Castle\", the single quote character in Howl's is not a problem because the string is enclosed in double quotes (\"\"). This allows the single quote inside the string to be included without needing to escape it."
   ]
  },
  {
   "cell_type": "code",
   "execution_count": 4,
   "id": "a8456ef1",
   "metadata": {},
   "outputs": [
    {
     "name": "stdout",
     "output_type": "stream",
     "text": [
      "Howl's Moving Castle\n"
     ]
    }
   ],
   "source": [
    "text = \"Howl's Moving Castle\"\n",
    "print(text)\n"
   ]
  },
  {
   "cell_type": "markdown",
   "id": "3dec8675",
   "metadata": {},
   "source": [
    "### Q5. How do you write a string of newlines if you don't want to use the n character?"
   ]
  },
  {
   "cell_type": "markdown",
   "id": "6809fc85",
   "metadata": {},
   "source": [
    "### Ans5.\n",
    "If you don't want to use the \\n character to represent newlines in a string, you can use triple-quoted strings (\"\"\")."
   ]
  },
  {
   "cell_type": "code",
   "execution_count": 6,
   "id": "2f7be732",
   "metadata": {},
   "outputs": [
    {
     "name": "stdout",
     "output_type": "stream",
     "text": [
      "Hello\n",
      "Hi\n",
      "Namaste\n"
     ]
    }
   ],
   "source": [
    "text = \"\"\"Hello\n",
    "Hi\n",
    "Namaste\"\"\"\n",
    "\n",
    "print(text)\n"
   ]
  },
  {
   "cell_type": "markdown",
   "id": "d453600e",
   "metadata": {},
   "source": [
    "### Q6. . What are the values of the given expressions?\n",
    "- 'Hello, world!'[1]\n",
    "- 'Hello, world!'[0:5]\n",
    "- 'Hello, world!'[:5]\n",
    "- 'Hello, world!'[3:]\n"
   ]
  },
  {
   "cell_type": "markdown",
   "id": "e18728ec",
   "metadata": {},
   "source": [
    "### Ans6."
   ]
  },
  {
   "cell_type": "code",
   "execution_count": 7,
   "id": "2038b8d1",
   "metadata": {},
   "outputs": [
    {
     "data": {
      "text/plain": [
       "'e'"
      ]
     },
     "execution_count": 7,
     "metadata": {},
     "output_type": "execute_result"
    }
   ],
   "source": [
    "'Hello, world!'[1]"
   ]
  },
  {
   "cell_type": "code",
   "execution_count": 8,
   "id": "f1f1a2f2",
   "metadata": {},
   "outputs": [
    {
     "data": {
      "text/plain": [
       "'Hello'"
      ]
     },
     "execution_count": 8,
     "metadata": {},
     "output_type": "execute_result"
    }
   ],
   "source": [
    "'Hello, world!'[0:5]"
   ]
  },
  {
   "cell_type": "code",
   "execution_count": 9,
   "id": "4b4e5c2a",
   "metadata": {},
   "outputs": [
    {
     "data": {
      "text/plain": [
       "'Hello'"
      ]
     },
     "execution_count": 9,
     "metadata": {},
     "output_type": "execute_result"
    }
   ],
   "source": [
    "'Hello, world!'[:5]"
   ]
  },
  {
   "cell_type": "code",
   "execution_count": 10,
   "id": "90fe02c0",
   "metadata": {},
   "outputs": [
    {
     "data": {
      "text/plain": [
       "'lo, world!'"
      ]
     },
     "execution_count": 10,
     "metadata": {},
     "output_type": "execute_result"
    }
   ],
   "source": [
    "'Hello, world!'[3:]"
   ]
  },
  {
   "cell_type": "markdown",
   "id": "9c1dfecd",
   "metadata": {},
   "source": [
    "### Q7. What are the values of the following expressions?\n",
    "- 'Hello'.upper()\n",
    "- 'Hello'.upper().isupper()\n",
    "- 'Hello'.upper().lower()\n"
   ]
  },
  {
   "cell_type": "markdown",
   "id": "bef1bce9",
   "metadata": {},
   "source": [
    "### Ans7."
   ]
  },
  {
   "cell_type": "code",
   "execution_count": 11,
   "id": "a6b97120",
   "metadata": {},
   "outputs": [
    {
     "data": {
      "text/plain": [
       "'HELLO'"
      ]
     },
     "execution_count": 11,
     "metadata": {},
     "output_type": "execute_result"
    }
   ],
   "source": [
    "'Hello'.upper()"
   ]
  },
  {
   "cell_type": "code",
   "execution_count": 12,
   "id": "d8fd95c2",
   "metadata": {},
   "outputs": [
    {
     "data": {
      "text/plain": [
       "True"
      ]
     },
     "execution_count": 12,
     "metadata": {},
     "output_type": "execute_result"
    }
   ],
   "source": [
    "'Hello'.upper().isupper()"
   ]
  },
  {
   "cell_type": "code",
   "execution_count": 13,
   "id": "2e28e795",
   "metadata": {},
   "outputs": [
    {
     "data": {
      "text/plain": [
       "'hello'"
      ]
     },
     "execution_count": 13,
     "metadata": {},
     "output_type": "execute_result"
    }
   ],
   "source": [
    "'Hello'.upper().lower()"
   ]
  },
  {
   "cell_type": "markdown",
   "id": "f5493675",
   "metadata": {},
   "source": [
    "### Q8. What are the values of the following expressions?\n",
    "- 'Remember, remember, the fifth of July.'.split()\n",
    "- '-'.join('There can only one.'.split())\n"
   ]
  },
  {
   "cell_type": "markdown",
   "id": "a29fbe1f",
   "metadata": {},
   "source": [
    "### Ans8."
   ]
  },
  {
   "cell_type": "code",
   "execution_count": 14,
   "id": "1d02a4ac",
   "metadata": {},
   "outputs": [
    {
     "data": {
      "text/plain": [
       "['Remember,', 'remember,', 'the', 'fifth', 'of', 'July.']"
      ]
     },
     "execution_count": 14,
     "metadata": {},
     "output_type": "execute_result"
    }
   ],
   "source": [
    "'Remember, remember, the fifth of July.'.split()"
   ]
  },
  {
   "cell_type": "code",
   "execution_count": 15,
   "id": "80581a8f",
   "metadata": {},
   "outputs": [
    {
     "data": {
      "text/plain": [
       "'There-can-only-one.'"
      ]
     },
     "execution_count": 15,
     "metadata": {},
     "output_type": "execute_result"
    }
   ],
   "source": [
    "'-'.join('There can only one.'.split())"
   ]
  },
  {
   "cell_type": "markdown",
   "id": "c8b07807",
   "metadata": {},
   "source": [
    "### Q9.What are the methods for right-justifying, left-justifying, and centering a string?"
   ]
  },
  {
   "cell_type": "markdown",
   "id": "28c518e4",
   "metadata": {},
   "source": [
    "### Ans9.\n",
    "For right-justifyng :-\n",
    "\n",
    "str.rjust(width, fillchar)\n",
    "\n",
    "For left-justifying :-\n",
    "str.ljust(width, fillchar)\n",
    "\n",
    "For centering :-\n",
    "str.center(width, fillchar)"
   ]
  },
  {
   "cell_type": "markdown",
   "id": "2e55dcb9",
   "metadata": {},
   "source": [
    "### Q10. What is the best way to remove whitespace characters from the start or end?"
   ]
  },
  {
   "cell_type": "markdown",
   "id": "584382c3",
   "metadata": {},
   "source": [
    "### Ans10.\n",
    "- str.strip():- to remove whitespace characters from both the start and end of the string.\n",
    "\n",
    "- str.lstrip():- to remove whitespace characters from the start (left) of the string.\n",
    "\n",
    "- str.rstrip():- to remove whitespace characters from the end (right) of the string."
   ]
  }
 ],
 "metadata": {
  "kernelspec": {
   "display_name": "Python 3 (ipykernel)",
   "language": "python",
   "name": "python3"
  },
  "language_info": {
   "codemirror_mode": {
    "name": "ipython",
    "version": 3
   },
   "file_extension": ".py",
   "mimetype": "text/x-python",
   "name": "python",
   "nbconvert_exporter": "python",
   "pygments_lexer": "ipython3",
   "version": "3.9.13"
  }
 },
 "nbformat": 4,
 "nbformat_minor": 5
}
