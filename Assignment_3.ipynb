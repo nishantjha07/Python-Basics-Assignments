{
 "cells": [
  {
   "cell_type": "markdown",
   "id": "db5790f3",
   "metadata": {},
   "source": [
    "### Q1. Why are functions advantageous to have in your programs?"
   ]
  },
  {
   "cell_type": "markdown",
   "id": "c16fc082",
   "metadata": {},
   "source": [
    "### Ans1. \n",
    "Because with the help of functions, we can avoid rewriting the same logic or code again and again in a program. In a single Program, we can call Python functions anywhere and also call multiple times.\n"
   ]
  },
  {
   "cell_type": "markdown",
   "id": "484e212e",
   "metadata": {},
   "source": [
    "### Q2. When does the code in a function run: when it's specified or when it's called?\n"
   ]
  },
  {
   "cell_type": "markdown",
   "id": "1081f9be",
   "metadata": {},
   "source": [
    "### Ans2. \n",
    "when it's called"
   ]
  },
  {
   "cell_type": "markdown",
   "id": "1a1d3753",
   "metadata": {},
   "source": [
    "### Q3. What statement creates a function?\n"
   ]
  },
  {
   "cell_type": "markdown",
   "id": "43f250c1",
   "metadata": {},
   "source": [
    "### Ans3.\n",
    "In most programming languages, creating a function need some specific syntax to define it.\n",
    "\n",
    "for python we use :- def statement."
   ]
  },
  {
   "cell_type": "markdown",
   "id": "448c13c4",
   "metadata": {},
   "source": [
    "### Q4. What is the difference between a function and a function call?"
   ]
  },
  {
   "cell_type": "markdown",
   "id": "640b4a2e",
   "metadata": {},
   "source": [
    "### Ans4. \n",
    "\n",
    "Function: It’s a definition or blueprint, outlining what to do when the function is called.\n",
    "\n",
    "Function Call: It’s the execution of that blueprint, where you actually run the code contained in the function.\n"
   ]
  },
  {
   "cell_type": "markdown",
   "id": "1563ff86",
   "metadata": {},
   "source": [
    "### Q5. How many global scopes are there in a Python program? How many local scopes?\n"
   ]
  },
  {
   "cell_type": "markdown",
   "id": "fe29b6ce",
   "metadata": {},
   "source": [
    "### Ans5. \n",
    "There is only one global scope in python program.\n",
    "\n",
    "The number of local scopes in a Python program depends on how many functions are called during the execution of the program"
   ]
  },
  {
   "cell_type": "markdown",
   "id": "7e8f3e61",
   "metadata": {},
   "source": [
    "### Q6. What happens to variables in a local scope when the function call returns?"
   ]
  },
  {
   "cell_type": "markdown",
   "id": "c6fd8961",
   "metadata": {},
   "source": [
    "### Ans6. \n",
    "When a function call returns in Python, the variables defined within the local scope of that function are typically destroyed or deallocated."
   ]
  },
  {
   "cell_type": "markdown",
   "id": "2770c122",
   "metadata": {},
   "source": [
    "### Q7. What is the concept of a return value? Is it possible to have a return value in an expression? "
   ]
  },
  {
   "cell_type": "markdown",
   "id": "9fef6c89",
   "metadata": {},
   "source": [
    "### Ans7.\n",
    "A return value is a programming refers to the value that a function produces and sends back to the caller when it completes execution. The return value allows functions to pass data back to the part of the program that invoked them.\n",
    "\n",
    "Yes, it is possible. And in that case, the return value is used as part of a larger expression."
   ]
  },
  {
   "cell_type": "markdown",
   "id": "ae82e2aa",
   "metadata": {},
   "source": [
    "### Q8. If a function does not have a return statement, what is the return value of a call to that function?"
   ]
  },
  {
   "cell_type": "markdown",
   "id": "ac03089f",
   "metadata": {},
   "source": [
    "### Ans8. \n",
    "No 'return' statement: The function implicitly returns None.\n",
    "'return' statement with no value: The function returns None.\n",
    "\n",
    "In both cases, None is a special constant in Python representing the absence of a value."
   ]
  },
  {
   "cell_type": "markdown",
   "id": "ac5287ab",
   "metadata": {},
   "source": [
    "### Q9. How do you make a function variable refer to the global variable?"
   ]
  },
  {
   "cell_type": "markdown",
   "id": "62546093",
   "metadata": {},
   "source": [
    "### Ans9.\n",
    "We can use the 'global' keyword to indicate that a variable inside a function should refer to the global variable with the same name. This allows you to modify the global variable from inside the function."
   ]
  },
  {
   "cell_type": "markdown",
   "id": "a9cd3eed",
   "metadata": {},
   "source": [
    "### Q10.What is the data type of None?"
   ]
  },
  {
   "cell_type": "markdown",
   "id": "9293c5ad",
   "metadata": {},
   "source": [
    "### Ans10. \n",
    "'NoneType' is the data type of 'None'. "
   ]
  },
  {
   "cell_type": "markdown",
   "id": "7c82ded3",
   "metadata": {},
   "source": [
    "### Q11. What does the sentence import areallyourpetsnamederic do?"
   ]
  },
  {
   "cell_type": "markdown",
   "id": "209785fd",
   "metadata": {},
   "source": [
    "### Ans11. \n",
    "That import statement imports a module named areallyourpetsnamederic."
   ]
  },
  {
   "cell_type": "markdown",
   "id": "1dfed5db",
   "metadata": {},
   "source": [
    "### Q12. If you had a bacon() feature in a spam module, what would you call it after importing spam?\n"
   ]
  },
  {
   "cell_type": "markdown",
   "id": "0179f365",
   "metadata": {},
   "source": [
    "### Ans12. \n",
    "by using dot notation like - spam.bacon()\n"
   ]
  },
  {
   "cell_type": "markdown",
   "id": "e5cafe01",
   "metadata": {},
   "source": [
    "### Q13. What can you do to save a programme from crashing if it encounters an error?\n"
   ]
  },
  {
   "cell_type": "markdown",
   "id": "7647e59e",
   "metadata": {},
   "source": [
    "### Ans13. \n",
    "we can use 'try' and 'except' to save programme from crashing if it encounters an error"
   ]
  },
  {
   "cell_type": "markdown",
   "id": "d42b048d",
   "metadata": {},
   "source": [
    "### Q14. What is the purpose of the try clause? What is the purpose of the except clause?"
   ]
  },
  {
   "cell_type": "markdown",
   "id": "e9798f48",
   "metadata": {},
   "source": [
    "### Ans14. \n",
    "The purpose of the try clause is to specify a block of code that may raise an exception. The code inside the try block is executed normally, and if an exception is raised during the execution of the block, Python stops executing the code inside the block and proceeds to the except block.\n",
    "\n",
    "The purpose of the except clause is to specify a block of code that should be executed if an exception is raised in the try block. The code inside the except block is executed only if an exception occurs, and it can be used to handle the exception in a way that prevents the program from crashing."
   ]
  }
 ],
 "metadata": {
  "kernelspec": {
   "display_name": "Python 3 (ipykernel)",
   "language": "python",
   "name": "python3"
  },
  "language_info": {
   "codemirror_mode": {
    "name": "ipython",
    "version": 3
   },
   "file_extension": ".py",
   "mimetype": "text/x-python",
   "name": "python",
   "nbconvert_exporter": "python",
   "pygments_lexer": "ipython3",
   "version": "3.9.13"
  }
 },
 "nbformat": 4,
 "nbformat_minor": 5
}
