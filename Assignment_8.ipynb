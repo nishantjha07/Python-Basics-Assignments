{
 "cells": [
  {
   "cell_type": "markdown",
   "id": "18244097",
   "metadata": {},
   "source": [
    "### Q1. Is the Python Standard Library included with PyInputPlus?"
   ]
  },
  {
   "cell_type": "markdown",
   "id": "aada4502",
   "metadata": {},
   "source": [
    "### Ans1.\n",
    "No, the Python standard library is not included with 'PyInputPlus'."
   ]
  },
  {
   "cell_type": "markdown",
   "id": "0549564f",
   "metadata": {},
   "source": [
    "### Q2. Why is PyInputPlus commonly imported with import pyinputplus as pypi?"
   ]
  },
  {
   "cell_type": "markdown",
   "id": "57703502",
   "metadata": {},
   "source": [
    "### Ans2.\n",
    "'PyInputPlus' is often imported using the alias 'pypi' or ('pyip') to reduces the amount of typing and makes the code more concise."
   ]
  },
  {
   "cell_type": "markdown",
   "id": "8c437799",
   "metadata": {},
   "source": [
    "### Q3. How do you distinguish between inputInt() and inputFloat()?"
   ]
  },
  {
   "cell_type": "markdown",
   "id": "dd63e825",
   "metadata": {},
   "source": [
    "### Ans3.\n",
    "'inputInt()' and 'inputFloat()' are two functions in 'PyInputPlus' that are used to validate and handle user input, ensuring that the input is of a specific numeric type.\n",
    "\n",
    "- 'inputInt()' :- Ensures that the input is an integer.\n",
    "- 'inputFloat()' :-  Ensures that the input is a floating-point number."
   ]
  },
  {
   "cell_type": "markdown",
   "id": "057e28c9",
   "metadata": {},
   "source": [
    "### Q4. Using PyInputPlus, how do you ensure that the user enters a whole number between 0 and 99?"
   ]
  },
  {
   "cell_type": "markdown",
   "id": "d112ecbc",
   "metadata": {},
   "source": [
    "### Ans4.\n",
    "import 'pyinputplus' as 'pyip'\n",
    "\n",
    "#### Prompt the user for an integer between 0 and 99\n",
    "\n",
    "number = pyip.inputInt(\"Enter a whole number between 0 and 99: \", min=0, max=99)\n",
    "\n",
    "print(f\"You entered: {number}\")\n",
    "\n",
    "###### Explanation\n",
    "\n",
    "- 'inputInt()'': Ensures the input is an integer.\n",
    "- 'min=0': Sets the minimum value to 0.\n",
    "- 'max=99' : Sets the maximum value to 99.\n",
    "\n",
    "This approach ensures that the user input is a whole number (an integer) and is constrained within the specified range of 0 to 99."
   ]
  },
  {
   "cell_type": "markdown",
   "id": "c21e7a7a",
   "metadata": {},
   "source": [
    "### Q5. What is transferred to the keyword arguments allowRegexes and blockRegexes?"
   ]
  },
  {
   "cell_type": "markdown",
   "id": "e7597b82",
   "metadata": {},
   "source": [
    "### Ans5.\n",
    "The 'allowRegexes' and 'blockRegexes' keyword arguments in 'PyInputPlus' functions like 'inputStr()', 'inputInt()'.\n"
   ]
  },
  {
   "cell_type": "markdown",
   "id": "5fbb8963",
   "metadata": {},
   "source": [
    "### Q6. If a blank input is entered three times, what does inputStr(limit=3) do?"
   ]
  },
  {
   "cell_type": "markdown",
   "id": "4c7c3750",
   "metadata": {},
   "source": [
    "### Ans6.\n",
    "If a blank input is entered three times when using 'inputStr(limit=3)', 'PyInputPlus' will raise a 'RetryLimitException' after the third attempt.\n",
    "\n",
    "- First attempt :- User provides a blank input.\n",
    "- Second attempt :- User provides a blank input again.\n",
    "- Third Attempt:- User provides a blank input once more.\n",
    "\n",
    "This exception is raised because the user has failed to provide a valid input within the allowed number of attempts."
   ]
  },
  {
   "cell_type": "markdown",
   "id": "1e7af483",
   "metadata": {},
   "source": [
    "### Q7. If blank input is entered three times, what does inputStr(limit=3, default='hello') do?\n"
   ]
  },
  {
   "cell_type": "markdown",
   "id": "62908ce9",
   "metadata": {},
   "source": [
    "### Ans7. \n",
    "When using 'inputStr(limit=3, default='hello')' in 'PyInputPlus' , if a blank input is entered three times, the function will return the default value 'hello' instead of raising a 'RetryLimitException'.\n",
    "\n",
    "- First Attempt: If the user provides a blank input, 'PyInputPlus' will prompt the user again.\n",
    "- Second Attempt: If the user provides a blank input again, the function will prompt the user a third time.\n",
    "- Third Attempt: If the user provides a blank input once more, the function will return the default value 'hello'."
   ]
  }
 ],
 "metadata": {
  "kernelspec": {
   "display_name": "Python 3 (ipykernel)",
   "language": "python",
   "name": "python3"
  },
  "language_info": {
   "codemirror_mode": {
    "name": "ipython",
    "version": 3
   },
   "file_extension": ".py",
   "mimetype": "text/x-python",
   "name": "python",
   "nbconvert_exporter": "python",
   "pygments_lexer": "ipython3",
   "version": "3.9.13"
  }
 },
 "nbformat": 4,
 "nbformat_minor": 5
}
