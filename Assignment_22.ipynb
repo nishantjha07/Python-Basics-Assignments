{
 "cells": [
  {
   "cell_type": "markdown",
   "id": "e89cd17a-528d-4dde-8896-3ba37bd76d84",
   "metadata": {},
   "source": [
    "### Q1. What is the result of the code, and explain?"
   ]
  },
  {
   "cell_type": "raw",
   "id": "63f50a02",
   "metadata": {},
   "source": [
    "X = 'iNeuron'\n",
    "def func():\n",
    "    print(X)\n",
    "\n",
    "func()"
   ]
  },
  {
   "cell_type": "markdown",
   "id": "53040408",
   "metadata": {},
   "source": [
    "### Ans1."
   ]
  },
  {
   "cell_type": "markdown",
   "id": "3daca997-b65e-43b2-b519-0dcd4af142e9",
   "metadata": {},
   "source": [
    "Result = iNeuron\n",
    "\n",
    "Explanation:\n",
    "The variable X is defined in the global scope with the value 'iNeuron'. Inside the function func(), there is no local variable X, so Python looks for X in the global scope and finds it. Thus, when print(X) is executed, it prints 'iNeuron'."
   ]
  },
  {
   "cell_type": "markdown",
   "id": "eb2e1328-9544-4763-92ea-25537cfd6669",
   "metadata": {},
   "source": [
    "### Q2. What is the result of the code, and explain?"
   ]
  },
  {
   "cell_type": "raw",
   "id": "ea03b035-c196-44ec-af65-9c1a1de7d456",
   "metadata": {},
   "source": [
    ">>> X = 'iNeuron'\n",
    ">>> def func():\n",
    "...     X = 'NI!'\n",
    ">>> func()\n",
    ">>> print(X)\n",
    "int(X)\n"
   ]
  },
  {
   "cell_type": "markdown",
   "id": "a8016a16",
   "metadata": {},
   "source": [
    "### Ans2."
   ]
  },
  {
   "cell_type": "markdown",
   "id": "bc2038d2-d54f-473e-b038-20963a6f8122",
   "metadata": {},
   "source": [
    "Result = iNeuron\n",
    "\n",
    "Explanation: The global variable X is set to 'iNeuron'. Inside the function func(), X = 'NI!' creates a new local variable X that is only accessible within the func() function. This does not change the global X. Therefore, when you print X after calling func(), it still refers to the global X, which is 'iNeuron'."
   ]
  },
  {
   "cell_type": "markdown",
   "id": "8e91028c-02b7-4539-9119-61d98d3c74c0",
   "metadata": {},
   "source": [
    "### Q3. What does this code print, and why?"
   ]
  },
  {
   "cell_type": "raw",
   "id": "38b3144c-ed67-4a4d-8e9e-2c0029f3166b",
   "metadata": {},
   "source": [
    ">>> X = 'iNeuron'\n",
    ">>> def func():\n",
    "X = 'NI'\n",
    "print(X)\n",
    "\n",
    ">>> func()\n",
    ">>> print(X)"
   ]
  },
  {
   "cell_type": "markdown",
   "id": "78f17596",
   "metadata": {},
   "source": [
    "### Ans3."
   ]
  },
  {
   "cell_type": "raw",
   "id": "560b46c8-448a-4ea9-a3ea-8b3c9f8ccfa0",
   "metadata": {},
   "source": [
    "Output:\n",
    "NI\n",
    "iNeuro\n",
    "n\n",
    "Explanation: In the func() function, a local variable X is assigned the value 'NI'. When print(X) is called inside func(), it prints the local X, which is 'NI'. After the function call, print(X) outside the function prints the global X, which remains 'iNeuron' because the local X inside func() does not affect the global X.\n"
   ]
  },
  {
   "cell_type": "markdown",
   "id": "cd268b78-e897-4cd3-9f40-78ed93a2aaeb",
   "metadata": {},
   "source": [
    "### Q4. What output does this code produce? Why?"
   ]
  },
  {
   "cell_type": "raw",
   "id": "8fd88c25-649d-49f4-b50e-b784cc68c6e1",
   "metadata": {},
   "source": [
    ">>> X = 'iNeuron'\n",
    ">>> def func():\n",
    "global X\n",
    "X = 'NI'\n",
    "\n",
    ">>> func()\n",
    ">>> print(X)"
   ]
  },
  {
   "cell_type": "markdown",
   "id": "12bdf948",
   "metadata": {},
   "source": [
    "### Ans4."
   ]
  },
  {
   "cell_type": "raw",
   "id": "e1dc5654-4010-4f22-8062-63f4f0b5df80",
   "metadata": {},
   "source": [
    "Output: NI\n",
    "\n",
    "Explantion: The global X statement inside the func() function tells Python that X refers to the global variable X. When X = 'NI' is executed, it changes the value of the global X to 'NI'. Therefore, when print(X) is called after the function, it prints the modified global X, which is now 'NI'."
   ]
  },
  {
   "cell_type": "markdown",
   "id": "b404a507-5211-4495-a3eb-42a00b36f058",
   "metadata": {},
   "source": [
    "### Q5. What about this code—what’s the output, and why?"
   ]
  },
  {
   "cell_type": "raw",
   "id": "6e74e350-a070-4379-aa71-f7f88e17922c",
   "metadata": {},
   "source": [
    ">>> X = 'iNeuron'\n",
    ">>> def func():\n",
    "X = 'NI'\n",
    "def nested():\n",
    "print(X)\n",
    "nested()\n",
    "\n",
    ">>> func()\n",
    ">>> X"
   ]
  },
  {
   "cell_type": "markdown",
   "id": "edd9534d",
   "metadata": {},
   "source": [
    "### Ans5."
   ]
  },
  {
   "cell_type": "raw",
   "id": "8730cf1c-ced8-4627-9612-5cb4de62c98b",
   "metadata": {},
   "source": [
    "Output:\n",
    "NI\n",
    "'iNeuron'\n",
    "\n",
    "Explanation: Inside func(), a local variable X is assigned the value 'NI'. The nested() function, which is defined within func(), accesses this local X when it prints X, resulting in 'NI' being printed. However, the global X remains unchanged as 'iNeuron'. Therefore, when you evaluate X after the function call, it refers to the global X, which is 'iNeuron'.\n",
    "\n"
   ]
  },
  {
   "cell_type": "markdown",
   "id": "a55a96e9-9631-4f50-b405-750fc33ae630",
   "metadata": {},
   "source": [
    "### Q6. How about this code: what is its output in Python 3, and explain?"
   ]
  },
  {
   "cell_type": "raw",
   "id": "d51799b1-b982-4541-9983-33d06c811ef1",
   "metadata": {},
   "source": [
    ">>> def func():\n",
    "X = 'NI'\n",
    "def nested():\n",
    "nonlocal X\n",
    "X = 'Spam'\n",
    "nested()\n",
    "print(X)\n",
    "\n",
    ">>> func()"
   ]
  },
  {
   "cell_type": "markdown",
   "id": "911b27aa",
   "metadata": {},
   "source": [
    "### Ans6."
   ]
  },
  {
   "cell_type": "raw",
   "id": "41d42975-395f-4bd5-9b00-7dc7aada70a6",
   "metadata": {},
   "source": [
    "Output: Spam\n",
    "\n",
    "Explantion: In Python 3, the nonlocal keyword is used to indicate that X refers to a variable in the nearest enclosing scope that is not global. In this case, X = 'NI' is in the enclosing scope of nested(). When nested() is called, the statement X = 'Spam' changes the value of X in the enclosing scope (which was 'NI'), so X becomes 'Spam'. When print(X) is called after nested(), it prints 'Spam'."
   ]
  }
 ],
 "metadata": {
  "kernelspec": {
   "display_name": "Python 3 (ipykernel)",
   "language": "python",
   "name": "python3"
  },
  "language_info": {
   "codemirror_mode": {
    "name": "ipython",
    "version": 3
   },
   "file_extension": ".py",
   "mimetype": "text/x-python",
   "name": "python",
   "nbconvert_exporter": "python",
   "pygments_lexer": "ipython3",
   "version": "3.9.13"
  }
 },
 "nbformat": 4,
 "nbformat_minor": 5
}
