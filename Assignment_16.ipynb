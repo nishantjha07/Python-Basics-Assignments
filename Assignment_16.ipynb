{
 "cells": [
  {
   "cell_type": "markdown",
   "id": "fdd7762f",
   "metadata": {},
   "source": [
    "### Q1. Create a list called years_list, starting with the year of your birth, and each year thereafter until the year of your fifth birthday. For example, if you were born in 1980. the list would be years_list = [1980, 1981, 1982, 1983, 1984, 1985]."
   ]
  },
  {
   "cell_type": "markdown",
   "id": "803ba725",
   "metadata": {},
   "source": [
    "### Ans1."
   ]
  },
  {
   "cell_type": "code",
   "execution_count": 33,
   "id": "6956bb85",
   "metadata": {},
   "outputs": [
    {
     "name": "stdout",
     "output_type": "stream",
     "text": [
      "[2000, 2001, 2002, 2003, 2004, 2005]\n"
     ]
    }
   ],
   "source": [
    "# Define the year of birth\n",
    "birth_year = 2000  # my year of birth\n",
    "\n",
    "# Create the list of years from birth year to the year of the fifth birthday\n",
    "years_list = [birth_year + i for i in range(6)]\n",
    "\n",
    "# Print the list to verify\n",
    "print(years_list)\n"
   ]
  },
  {
   "cell_type": "markdown",
   "id": "fc1c627b",
   "metadata": {},
   "source": [
    "### Q2. In which year in years_list was your third birthday? Remember, you were 0 years of age for your first year."
   ]
  },
  {
   "cell_type": "markdown",
   "id": "fc29de4d",
   "metadata": {},
   "source": [
    "### Ans2.\n"
   ]
  },
  {
   "cell_type": "code",
   "execution_count": 34,
   "id": "3b4495e4",
   "metadata": {},
   "outputs": [
    {
     "name": "stdout",
     "output_type": "stream",
     "text": [
      "2003\n"
     ]
    }
   ],
   "source": [
    "third_birthday_year = birth_year + 3\n",
    "\n",
    "print(third_birthday_year)"
   ]
  },
  {
   "cell_type": "markdown",
   "id": "724538a1",
   "metadata": {},
   "source": [
    "### Q3.In the years list, which year were you the oldest?"
   ]
  },
  {
   "cell_type": "markdown",
   "id": "96e59548",
   "metadata": {},
   "source": [
    "### Ans3."
   ]
  },
  {
   "cell_type": "code",
   "execution_count": 35,
   "id": "3848a014",
   "metadata": {},
   "outputs": [
    {
     "name": "stdout",
     "output_type": "stream",
     "text": [
      "2005\n"
     ]
    }
   ],
   "source": [
    "oldest_year = years_list[-1]\n",
    "\n",
    "# Print the year when you were the oldest\n",
    "\n",
    "print(oldest_year)"
   ]
  },
  {
   "cell_type": "markdown",
   "id": "f034ab1a",
   "metadata": {},
   "source": [
    "### Q4. Make a list called things with these three strings as elements: \"mozzarella\", \"cinderella\", \"salmonella\"."
   ]
  },
  {
   "cell_type": "markdown",
   "id": "39911bf8",
   "metadata": {},
   "source": [
    "### Ans4. "
   ]
  },
  {
   "cell_type": "code",
   "execution_count": 36,
   "id": "7a0406c9",
   "metadata": {},
   "outputs": [
    {
     "name": "stdout",
     "output_type": "stream",
     "text": [
      "['mozzarella', 'cinderella', 'salmonella']\n"
     ]
    }
   ],
   "source": [
    "# Define the list with the specified elements\n",
    "things = [\"mozzarella\", \"cinderella\", \"salmonella\"]\n",
    "\n",
    "print(things)\n"
   ]
  },
  {
   "cell_type": "markdown",
   "id": "6dec1592",
   "metadata": {},
   "source": [
    "### Q5. Capitalize the element in things that refers to a person and then print the list. Did it change the element in the list?"
   ]
  },
  {
   "cell_type": "markdown",
   "id": "d51369d1",
   "metadata": {},
   "source": [
    "### Ans5."
   ]
  },
  {
   "cell_type": "code",
   "execution_count": 37,
   "id": "b40d01e3",
   "metadata": {},
   "outputs": [
    {
     "name": "stdout",
     "output_type": "stream",
     "text": [
      "['mozzarella', 'Cinderella', 'salmonella']\n"
     ]
    }
   ],
   "source": [
    "# Define the list with the specified elements\n",
    "things = [\"mozzarella\", \"cinderella\", \"salmonella\"]\n",
    "\n",
    "# Capitalize the element that refers to a person\n",
    "things[1] = things[1].capitalize()\n",
    "\n",
    "print(things)\n"
   ]
  },
  {
   "cell_type": "markdown",
   "id": "9b384dfa",
   "metadata": {},
   "source": [
    "- Yes, the element in the list did change. The capitalization operation transformed \"cinderella\" into \"Cinderella\", so the modified list reflects this change."
   ]
  },
  {
   "cell_type": "markdown",
   "id": "ce244438",
   "metadata": {},
   "source": [
    "### Q6. Make a surprise list with the elements \"Groucho,\" \"Chico,\" and \"Harpo.\""
   ]
  },
  {
   "cell_type": "markdown",
   "id": "e9678fe7",
   "metadata": {},
   "source": [
    "### Ans6."
   ]
  },
  {
   "cell_type": "code",
   "execution_count": 38,
   "id": "92bb0247",
   "metadata": {},
   "outputs": [
    {
     "name": "stdout",
     "output_type": "stream",
     "text": [
      "['Groucho', 'Chico', 'Harpo']\n"
     ]
    }
   ],
   "source": [
    "# Define the surprise list with the specified elements\n",
    "surprise = [\"Groucho\", \"Chico\", \"Harpo\"]\n",
    "\n",
    "\n",
    "print(surprise)\n"
   ]
  },
  {
   "cell_type": "markdown",
   "id": "e75d3e36",
   "metadata": {},
   "source": [
    "### Q7. Lowercase the last element of the surprise list, reverse it, and then capitalize it."
   ]
  },
  {
   "cell_type": "markdown",
   "id": "0ce0c711",
   "metadata": {},
   "source": [
    "### Ans7."
   ]
  },
  {
   "cell_type": "code",
   "execution_count": 39,
   "id": "dcf94f80",
   "metadata": {},
   "outputs": [
    {
     "name": "stdout",
     "output_type": "stream",
     "text": [
      "['Groucho', 'Chico', 'Oprah']\n"
     ]
    }
   ],
   "source": [
    "surprise = [\"Groucho\", \"Chico\", \"Harpo\"]\n",
    "\n",
    "# Get the last element\n",
    "last_element = surprise[-1]\n",
    "\n",
    "# Lowercase the last element\n",
    "lowercase_last = last_element.lower()\n",
    "\n",
    "# Reverse the lowercase string\n",
    "reversed_lowercase = lowercase_last[::-1]\n",
    "\n",
    "# Capitalize the reversed string\n",
    "capitalized_reversed = reversed_lowercase.capitalize()\n",
    "\n",
    "# Update the last element in the list\n",
    "surprise[-1] = capitalized_reversed\n",
    "\n",
    "print(surprise)\n"
   ]
  },
  {
   "cell_type": "markdown",
   "id": "ce7447fe",
   "metadata": {},
   "source": [
    "### Q8. Make an English-to-French dictionary called e2f and print it. Here are your starter words: dog is chien, cat is chat, and walrus is morse"
   ]
  },
  {
   "cell_type": "markdown",
   "id": "fb896a15",
   "metadata": {},
   "source": [
    "### Ans8."
   ]
  },
  {
   "cell_type": "code",
   "execution_count": 40,
   "id": "ac5cf507",
   "metadata": {},
   "outputs": [
    {
     "name": "stdout",
     "output_type": "stream",
     "text": [
      "{'dog': 'chien', 'cat': 'chat', 'walrus': 'morse'}\n"
     ]
    }
   ],
   "source": [
    "# Create the English-to-French dictionary\n",
    "e2f = {\n",
    "    \"dog\": \"chien\",\n",
    "    \"cat\": \"chat\",\n",
    "    \"walrus\": \"morse\"\n",
    "}\n",
    "\n",
    "\n",
    "print(e2f)\n"
   ]
  },
  {
   "cell_type": "markdown",
   "id": "5a0c8cef",
   "metadata": {},
   "source": [
    "### Q9. Write the French word for walrus in your three-word dictionary e2f."
   ]
  },
  {
   "cell_type": "markdown",
   "id": "491102ff",
   "metadata": {},
   "source": [
    "### Ans9."
   ]
  },
  {
   "cell_type": "code",
   "execution_count": 41,
   "id": "66cf2cda",
   "metadata": {},
   "outputs": [
    {
     "name": "stdout",
     "output_type": "stream",
     "text": [
      "morse\n"
     ]
    }
   ],
   "source": [
    "french_word_for_walrus = e2f[\"walrus\"]\n",
    "\n",
    "print(french_word_for_walrus)"
   ]
  },
  {
   "cell_type": "markdown",
   "id": "99d04f7d",
   "metadata": {},
   "source": [
    "### Q10. Make a French-to-English dictionary called f2e from e2f. Use the items method."
   ]
  },
  {
   "cell_type": "markdown",
   "id": "0501f9af",
   "metadata": {},
   "source": [
    "### Ans10."
   ]
  },
  {
   "cell_type": "code",
   "execution_count": 42,
   "id": "77fb7fd3",
   "metadata": {},
   "outputs": [
    {
     "name": "stdout",
     "output_type": "stream",
     "text": [
      "{'chien': 'dog', 'chat': 'cat', 'morse': 'walrus'}\n"
     ]
    }
   ],
   "source": [
    "f2e = {value: key for key, value in e2f.items()}\n",
    "\n",
    "print(f2e)"
   ]
  },
  {
   "cell_type": "markdown",
   "id": "3546d77d",
   "metadata": {},
   "source": [
    "### Q11. Print the English version of the French word chien using f2e."
   ]
  },
  {
   "cell_type": "markdown",
   "id": "a2bc4dce",
   "metadata": {},
   "source": [
    "### Ans11."
   ]
  },
  {
   "cell_type": "code",
   "execution_count": 43,
   "id": "954c7bde",
   "metadata": {},
   "outputs": [
    {
     "name": "stdout",
     "output_type": "stream",
     "text": [
      "dog\n"
     ]
    }
   ],
   "source": [
    "english_word_for_chien = f2e[\"chien\"]\n",
    "print(english_word_for_chien)"
   ]
  },
  {
   "cell_type": "markdown",
   "id": "4de39d36",
   "metadata": {},
   "source": [
    "### Q12. Make and print a set of English words from the keys in e2f."
   ]
  },
  {
   "cell_type": "markdown",
   "id": "73c93593",
   "metadata": {},
   "source": [
    "### Ans12."
   ]
  },
  {
   "cell_type": "code",
   "execution_count": 44,
   "id": "00260072",
   "metadata": {},
   "outputs": [
    {
     "name": "stdout",
     "output_type": "stream",
     "text": [
      "{'dog', 'cat', 'walrus'}\n"
     ]
    }
   ],
   "source": [
    "english_words_set = set(e2f.keys())\n",
    "\n",
    "print(english_words_set)"
   ]
  },
  {
   "cell_type": "markdown",
   "id": "bb46c6e0",
   "metadata": {},
   "source": [
    "### Q13. Make a multilevel dictionary called life. Use these strings for the topmost keys: 'animals', 'plants', and 'other'. Make the 'animals' key refer to another dictionary with the keys 'cats', 'octopi', and 'emus'. Make the 'cats' key refer to a list of strings with the values 'Henri', 'Grumpy', and 'Lucy'. Make all the other keys refer to empty dictionaries."
   ]
  },
  {
   "cell_type": "markdown",
   "id": "428775ab",
   "metadata": {},
   "source": [
    "### Ans13."
   ]
  },
  {
   "cell_type": "code",
   "execution_count": 45,
   "id": "c0e960d3",
   "metadata": {},
   "outputs": [
    {
     "name": "stdout",
     "output_type": "stream",
     "text": [
      "{'animals': {'cats': ['Henri', 'Grumpy', 'Lucy'], 'octopi': {}, 'emus': {}}, 'plants': {}, 'other': {}}\n"
     ]
    }
   ],
   "source": [
    "# Create the multilevel dictionary\n",
    "life = {\n",
    "    'animals': {\n",
    "        'cats': ['Henri', 'Grumpy', 'Lucy'],\n",
    "        'octopi': {},\n",
    "        'emus': {}\n",
    "    },\n",
    "    'plants': {},\n",
    "    'other': {}\n",
    "}\n",
    "\n",
    "print(life)\n"
   ]
  },
  {
   "cell_type": "markdown",
   "id": "b072449d",
   "metadata": {},
   "source": [
    "### Q14. Print the top-level keys of life."
   ]
  },
  {
   "cell_type": "markdown",
   "id": "ca91aeed",
   "metadata": {},
   "source": [
    "### Ans14."
   ]
  },
  {
   "cell_type": "code",
   "execution_count": 46,
   "id": "bd520028",
   "metadata": {},
   "outputs": [
    {
     "name": "stdout",
     "output_type": "stream",
     "text": [
      "dict_keys(['animals', 'plants', 'other'])\n"
     ]
    }
   ],
   "source": [
    "top_level_keys = life.keys()\n",
    "print(top_level_keys)\n"
   ]
  },
  {
   "cell_type": "markdown",
   "id": "d0a82c17",
   "metadata": {},
   "source": [
    "### Q15. Print the keys for life['animals']."
   ]
  },
  {
   "cell_type": "markdown",
   "id": "959b6a0b",
   "metadata": {},
   "source": [
    "### Ans15."
   ]
  },
  {
   "cell_type": "code",
   "execution_count": 47,
   "id": "283cac7c",
   "metadata": {},
   "outputs": [
    {
     "name": "stdout",
     "output_type": "stream",
     "text": [
      "dict_keys(['cats', 'octopi', 'emus'])\n"
     ]
    }
   ],
   "source": [
    "animal_keys = life['animals'].keys()\n",
    "\n",
    "print(animal_keys)"
   ]
  },
  {
   "cell_type": "markdown",
   "id": "5a17840c",
   "metadata": {},
   "source": [
    "### Q16. Print the values for life['animals'] ['cats']"
   ]
  },
  {
   "cell_type": "markdown",
   "id": "93aa900d",
   "metadata": {},
   "source": [
    "### Ans16."
   ]
  },
  {
   "cell_type": "code",
   "execution_count": 48,
   "id": "ec0b3a02",
   "metadata": {},
   "outputs": [
    {
     "name": "stdout",
     "output_type": "stream",
     "text": [
      "['Henri', 'Grumpy', 'Lucy']\n"
     ]
    }
   ],
   "source": [
    "cat_values = life['animals']['cats']\n",
    "\n",
    "print(cat_values)"
   ]
  }
 ],
 "metadata": {
  "kernelspec": {
   "display_name": "Python 3 (ipykernel)",
   "language": "python",
   "name": "python3"
  },
  "language_info": {
   "codemirror_mode": {
    "name": "ipython",
    "version": 3
   },
   "file_extension": ".py",
   "mimetype": "text/x-python",
   "name": "python",
   "nbconvert_exporter": "python",
   "pygments_lexer": "ipython3",
   "version": "3.9.13"
  }
 },
 "nbformat": 4,
 "nbformat_minor": 5
}
