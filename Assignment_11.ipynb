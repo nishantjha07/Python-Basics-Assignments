{
 "cells": [
  {
   "cell_type": "markdown",
   "id": "e28ccab3",
   "metadata": {},
   "source": [
    "### Q1. Create an assert statement that throws an AssertionError if the variable spam is a negative integer."
   ]
  },
  {
   "cell_type": "markdown",
   "id": "e93c3ae9",
   "metadata": {},
   "source": [
    "### Ans1. \n"
   ]
  },
  {
   "cell_type": "code",
   "execution_count": null,
   "id": "58a78933",
   "metadata": {},
   "outputs": [],
   "source": [
    "assert spam >= 0, \"spam should not be a negative integer\""
   ]
  },
  {
   "cell_type": "markdown",
   "id": "1b3bd752",
   "metadata": {},
   "source": [
    "### Q2. Write an assert statement that triggers an AssertionError if the variables eggs and bacon contain strings that are the same as each other, even if their cases are different (that is, 'hello' and 'hello' are considered the same, and 'goodbye' and 'GOODbye' are also considered the same)."
   ]
  },
  {
   "cell_type": "markdown",
   "id": "3ce50c28",
   "metadata": {},
   "source": [
    "### Ans2."
   ]
  },
  {
   "cell_type": "code",
   "execution_count": null,
   "id": "17ef0d7b",
   "metadata": {},
   "outputs": [],
   "source": [
    "assert eggs.lower() != bacon.lower(), \"eggs and bacon should not be the same string, even in different cases\"\n"
   ]
  },
  {
   "cell_type": "markdown",
   "id": "ebe962bd",
   "metadata": {},
   "source": [
    "### Q3. Create an assert statement that throws an AssertionError every time."
   ]
  },
  {
   "cell_type": "markdown",
   "id": "99dfbe96",
   "metadata": {},
   "source": [
    "### Ans3. "
   ]
  },
  {
   "cell_type": "markdown",
   "id": "f3346640",
   "metadata": {},
   "source": [
    "assert False, \"This assertion always fails.\""
   ]
  },
  {
   "cell_type": "markdown",
   "id": "238ed197",
   "metadata": {},
   "source": [
    "### Q4. What are the two lines that must be present in your software in order to call logging.debug()?"
   ]
  },
  {
   "cell_type": "markdown",
   "id": "25befa20",
   "metadata": {},
   "source": [
    "### Ans4."
   ]
  },
  {
   "cell_type": "code",
   "execution_count": 7,
   "id": "1a901f0b",
   "metadata": {},
   "outputs": [],
   "source": [
    "import logging\n",
    "logging.basicConfig(level=logging.DEBUG)\n"
   ]
  },
  {
   "cell_type": "markdown",
   "id": "874fbde5",
   "metadata": {},
   "source": [
    "### Q5. What are the two lines that your program must have in order to have logging.debug() send a logging message to a file named programLog.txt?"
   ]
  },
  {
   "cell_type": "markdown",
   "id": "8c18b26a",
   "metadata": {},
   "source": [
    "### Ans5."
   ]
  },
  {
   "cell_type": "code",
   "execution_count": 8,
   "id": "ef0e85e7",
   "metadata": {},
   "outputs": [],
   "source": [
    "import logging\n",
    "logging.basicConfig(filename='programLog.txt', level=logging.DEBUG)\n"
   ]
  },
  {
   "cell_type": "markdown",
   "id": "fcbcea02",
   "metadata": {},
   "source": [
    "### Q6. What are the five levels of logging?"
   ]
  },
  {
   "cell_type": "markdown",
   "id": "91e09ca0",
   "metadata": {},
   "source": [
    "### Ans6.\n",
    "- 1. DEBUG\n",
    "- 2. INFO\n",
    "- 3. WARNING\n",
    "- 4. ERROR\n",
    "- 5. CRITICAL\n",
    "\n",
    "These are the five levels of logging in Python."
   ]
  },
  {
   "cell_type": "markdown",
   "id": "b3bdb4c0",
   "metadata": {},
   "source": [
    "### Q7. What line of code would you add to your software to disable all logging messages?"
   ]
  },
  {
   "cell_type": "markdown",
   "id": "7e63c8f7",
   "metadata": {},
   "source": [
    "### Ans7.\n"
   ]
  },
  {
   "cell_type": "code",
   "execution_count": 9,
   "id": "3e27d70b",
   "metadata": {},
   "outputs": [],
   "source": [
    "logging.disable(logging.CRITICAL)\n"
   ]
  },
  {
   "cell_type": "markdown",
   "id": "ac65ae6f",
   "metadata": {},
   "source": [
    "### Q8.Why is using logging messages better than using print() to display the same message?"
   ]
  },
  {
   "cell_type": "markdown",
   "id": "91077f99",
   "metadata": {},
   "source": [
    "### Ans8.\n",
    "Because:-\n",
    "\n",
    "- 1. Logging levels :- allows you to differentiate the importance of messages.\n",
    "- 2. Output flexibility :- You can easily redirect messages to different outputs.\n",
    "- 3. Configurability :- Logging can be easily configured to include timestamps, message levels, and other contextual information.\n",
    "- 4. Control :- You can disable or filter out specific levels of messages without changing the code."
   ]
  },
  {
   "cell_type": "markdown",
   "id": "e1bcf5cc",
   "metadata": {},
   "source": [
    "### Q9. What are the differences between the Step Over, Step In, and Step Out buttons in the debugger?"
   ]
  },
  {
   "cell_type": "markdown",
   "id": "bd04863c",
   "metadata": {},
   "source": [
    "### Ans9.\n",
    "- Step over :- It executes the current line of code and moves to the next line in the same function, skipping over function calls without going inside them.\n",
    "- Step In:- It moves into the next function call, allowing you to debug inside the function.\n",
    "- Step Out: It completes the execution of the current function and returns to the caller function, stopping at the next line after the function call."
   ]
  },
  {
   "cell_type": "markdown",
   "id": "9add2978",
   "metadata": {},
   "source": [
    "### Q10.After you click Continue, when will the debugger stop ?"
   ]
  },
  {
   "cell_type": "markdown",
   "id": "a19ba93b",
   "metadata": {},
   "source": [
    "### Ans10. \n",
    "The debugger will stop at the next breakpoint that is hit, or when the program finishes execution."
   ]
  },
  {
   "cell_type": "markdown",
   "id": "7a18bbc3",
   "metadata": {},
   "source": [
    "### Q11. What is the concept of a breakpoint?"
   ]
  },
  {
   "cell_type": "markdown",
   "id": "b0a4aa96",
   "metadata": {},
   "source": [
    "### Ans11.\n",
    "A breakpoint is a marker that u set in your code to tell the debugger to pasue execution when it reaches that line. Which allows you to inspect the program's state at a specific points, making it easeir to debug and analyze the flow of program."
   ]
  }
 ],
 "metadata": {
  "kernelspec": {
   "display_name": "Python 3 (ipykernel)",
   "language": "python",
   "name": "python3"
  },
  "language_info": {
   "codemirror_mode": {
    "name": "ipython",
    "version": 3
   },
   "file_extension": ".py",
   "mimetype": "text/x-python",
   "name": "python",
   "nbconvert_exporter": "python",
   "pygments_lexer": "ipython3",
   "version": "3.9.13"
  }
 },
 "nbformat": 4,
 "nbformat_minor": 5
}
