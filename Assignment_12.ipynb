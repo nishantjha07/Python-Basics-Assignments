{
 "cells": [
  {
   "cell_type": "markdown",
   "id": "3f8ccaf1",
   "metadata": {},
   "source": [
    "### Q1. In what modes should the PdfFileReader() and PdfFileWriter() File objects be opened?"
   ]
  },
  {
   "cell_type": "markdown",
   "id": "7b2dfbf5",
   "metadata": {},
   "source": [
    "### Ans1.\n",
    "- 'PdfFileReader()': The file should be opened in read-binary mode ('rb').\n",
    "- 'PdfFileWriter()': The file should be opened in write-binary mode ('wb')."
   ]
  },
  {
   "cell_type": "markdown",
   "id": "2ba47ebc",
   "metadata": {},
   "source": [
    "### Q2. From a PdfFileReader object, how do you get a Page object for page 5?"
   ]
  },
  {
   "cell_type": "markdown",
   "id": "813c363e",
   "metadata": {},
   "source": [
    "### Ans2. \n",
    "You can get a Page object for page 4 using the 'getPage()' method (remember that pages are zero-indexed, so page 4 is index 3)."
   ]
  },
  {
   "cell_type": "code",
   "execution_count": null,
   "id": "4cc1bc74",
   "metadata": {},
   "outputs": [],
   "source": [
    "page = pdf_reader.getPage(3)"
   ]
  },
  {
   "cell_type": "markdown",
   "id": "062e31c6",
   "metadata": {},
   "source": [
    "### Q3. What 'PdfFileReader' variable stores the number of pages in the PDF document?"
   ]
  },
  {
   "cell_type": "markdown",
   "id": "65c78f43",
   "metadata": {},
   "source": [
    "### Ans3.\n"
   ]
  },
  {
   "cell_type": "code",
   "execution_count": null,
   "id": "7be4c7b7",
   "metadata": {},
   "outputs": [],
   "source": [
    "total_pages = pdf_reader.numPages"
   ]
  },
  {
   "cell_type": "markdown",
   "id": "143ad45d",
   "metadata": {},
   "source": [
    "### Q4. If a 'PdfFileReader' object’s PDF is encrypted with the password 'swordfish', what must you do before you can obtain Page objects from it?"
   ]
  },
  {
   "cell_type": "markdown",
   "id": "59079265",
   "metadata": {},
   "source": [
    "### Ans4.\n"
   ]
  },
  {
   "cell_type": "code",
   "execution_count": null,
   "id": "dff95d06",
   "metadata": {},
   "outputs": [],
   "source": [
    "pdf_reader.decrypt('swordfish')"
   ]
  },
  {
   "cell_type": "markdown",
   "id": "c7d8421f",
   "metadata": {},
   "source": [
    "### Q5. What methods do you use to rotate a page"
   ]
  },
  {
   "cell_type": "markdown",
   "id": "f1ae5a5a",
   "metadata": {},
   "source": [
    "### Ans5.\n",
    "- 'rotateClockwise(degrees)': Rotates the page clockwise by the specified degree (90, 180, or 270).\n",
    "- 'rotateCounterClockwise(degrees)': Rotates the page counterclockwise by the specified degree.\n",
    "\n",
    "These are the two methods to rotate a page."
   ]
  },
  {
   "cell_type": "markdown",
   "id": "eb764ced",
   "metadata": {},
   "source": [
    "### Q6. What is the difference between a Run object and a Paragraph object?"
   ]
  },
  {
   "cell_type": "markdown",
   "id": "6d8caa46",
   "metadata": {},
   "source": [
    "### Ans6.\n",
    "- Paragraph Object: Represents a paragraph of text, which can contain multiple runs.\n",
    "\n",
    "- Run Object: Represents a contiguous run of text within a paragraph that shares the same formatting. Multiple runs can exist within a single paragraph, each with different formatting."
   ]
  },
  {
   "cell_type": "markdown",
   "id": "82f4325a",
   "metadata": {},
   "source": [
    "### Q7. How do you obtain a list of Paragraph objects for a Document object that’s stored in a variable named doc?"
   ]
  },
  {
   "cell_type": "markdown",
   "id": "98d188e1",
   "metadata": {},
   "source": [
    "### Ans7.\n",
    " using the 'doc.paragraphs' attribute."
   ]
  },
  {
   "cell_type": "code",
   "execution_count": null,
   "id": "84ee267a",
   "metadata": {},
   "outputs": [],
   "source": [
    "paragraphs = doc.paragraphs"
   ]
  },
  {
   "cell_type": "markdown",
   "id": "3f84eac2",
   "metadata": {},
   "source": [
    "### Q8. What type of object has bold, underline, italic, strike, and outline variables?"
   ]
  },
  {
   "cell_type": "markdown",
   "id": "8f9f5f15",
   "metadata": {},
   "source": [
    "### Ans8. \n",
    "In Python, objects with attributes like bold, underline, italic, strike, and outline are often associated with text formatting in libraries designed for rich text or graphical applications. \n",
    "\n",
    "while Python itself does not have a built-in object with these exact attributes, many third-party libraries and frameworks provide objects with similar functionality for text formatting and styling.\n"
   ]
  },
  {
   "cell_type": "markdown",
   "id": "9ae30ee4",
   "metadata": {},
   "source": [
    "### Q9. What is the difference between False, True, and None for the bold variable?"
   ]
  },
  {
   "cell_type": "markdown",
   "id": "39935f8a",
   "metadata": {},
   "source": [
    "### Ans9.\n",
    "In Python, when dealing with text formatting or styling where bold is a variable that can be set to different values, the meanings of 'False', 'True', and 'None' typically indicate different states or configurations.\n",
    "\n",
    "- 'False' :- The 'bold' attribute is explicitly set to not be applied.\n",
    "\n",
    "text_style = {\"bold\": False}\n",
    "\n",
    "- 'True'  :- The 'bold' attribute is explicitly set to be applied.\n",
    "\n",
    "text_style = {\"bold\": True}\n",
    "\n",
    "- 'None'  :- The 'bold' attribute is not explicitly set or unspecified.\n",
    "\n",
    "text_style = {\"bold\": None}\n"
   ]
  },
  {
   "cell_type": "markdown",
   "id": "32638e90",
   "metadata": {},
   "source": [
    "### Q10. How do you create a Document object for a new Word document?"
   ]
  },
  {
   "cell_type": "markdown",
   "id": "a4cf58a2",
   "metadata": {},
   "source": [
    "### Ans10.\n",
    "To create a new Word document using Python, you can use the python-docx library, which is designed for creating and modifying Microsoft Word (.docx) files.\n"
   ]
  },
  {
   "cell_type": "code",
   "execution_count": null,
   "id": "9668b5ad",
   "metadata": {},
   "outputs": [],
   "source": [
    "1st - Install 'python-docx'\n",
    "pip install python-docx\n",
    "\n",
    "from docx import Document\n",
    "\n",
    "# Create a new Document object\n",
    "doc = Document()\n",
    "\n",
    "# Add a title to the document\n",
    "doc.add_heading('Document Title', level=1)\n",
    "\n",
    "# Add a paragraph of text\n",
    "doc.add_paragraph('This is a paragraph of text in the Word document.')\n",
    "\n",
    "# Add another paragraph with bold text\n",
    "doc.add_paragraph('This paragraph has some ', style='Normal').add_run('bold').bold = True\n",
    "doc.add_paragraph(' and ', style='Normal').add_run('italic').italic = True\n",
    "doc.add_paragraph(' formatting.', style='Normal')\n",
    "\n",
    "# Save the document to a file\n",
    "doc.save('new_document.docx')"
   ]
  },
  {
   "cell_type": "markdown",
   "id": "ddd6c348",
   "metadata": {},
   "source": [
    "#### Explanation\n",
    "- Import Document: The Document class from the docx module is used to create and manipulate Word documents.\n",
    "\n",
    "- Create a New Document: Instantiate a Document object which represents a new, empty Word document.\n",
    "\n",
    "- Add Content:\n",
    "\n",
    " - 1.Heading: Use add_heading to add a title or heading to the document.\n",
    " - 2.Paragraph: Use add_paragraph to add a paragraph of text. You can also add runs of text with different styles (like bold or italic) to a paragraph using the add_run method.\n",
    "\n",
    "- Save the Document: Call the save method on the Document object to write the document to a file. Specify the desired file name and path."
   ]
  },
  {
   "cell_type": "markdown",
   "id": "a14fd229",
   "metadata": {},
   "source": [
    "### Q11. How do you add a paragraph with the text 'Hello, there!' to a Document object stored in a variable named doc?"
   ]
  },
  {
   "cell_type": "markdown",
   "id": "3825d064",
   "metadata": {},
   "source": [
    "### Ans11.\n",
    "To add a paragraph with the text 'Hello, there!' to a Document object stored in a variable named doc, you can use the add_paragraph method provided by the python-docx library. "
   ]
  },
  {
   "cell_type": "code",
   "execution_count": null,
   "id": "91c06dcf",
   "metadata": {},
   "outputs": [],
   "source": [
    "from docx import Document\n",
    "\n",
    "# Assuming doc is an existing Document object\n",
    "doc = Document()\n",
    "\n",
    "# Add a paragraph with the text 'Hello, there!'\n",
    "doc.add_paragraph('Hello, there!')\n",
    "\n",
    "# Optionally, save the document to a file to see the changes\n",
    "doc.save('example_document.docx')"
   ]
  },
  {
   "cell_type": "markdown",
   "id": "bd1174a4",
   "metadata": {},
   "source": [
    "#### Explanation\n",
    "- Import the Document Class: Import the Document class from the docx module to work with Word documents.\n",
    "\n",
    "- Create or Access the Document Object: In this example, doc is either an existing Document object or created anew.\n",
    "\n",
    "- Add a Paragraph: Call the add_paragraph method on the doc object with the string 'Hello, there!' as its argument. This method adds a new paragraph to the document.\n",
    "\n",
    "- Save the Document: Use the save method to write the changes to a file, such as example_document.docx. This step is optional if you just want to update the document in memory."
   ]
  },
  {
   "cell_type": "markdown",
   "id": "d1a51400",
   "metadata": {},
   "source": [
    "### Q12. What integers represent the levels of headings available in Word documents?"
   ]
  },
  {
   "cell_type": "markdown",
   "id": "62f7f911",
   "metadata": {},
   "source": [
    "### Ans12.\n",
    "In Word documents, the levels of headings are represented by integers ranging from 1 to 9. \n",
    "\n",
    "Here’s a summary of the heading levels:\n",
    "\n",
    "- 1: Heading 1 (highest level, usually used for main titles)\n",
    "- 2: Heading 2\n",
    "- 3: Heading 3\n",
    "- 4: Heading 4\n",
    "- 5: Heading 5\n",
    "- 6: Heading 6\n",
    "- 7: Heading 7\n",
    "- 8: Heading 8\n",
    "- 9: Heading 9 (lowest level)"
   ]
  },
  {
   "cell_type": "code",
   "execution_count": null,
   "id": "41a55c4d",
   "metadata": {},
   "outputs": [],
   "source": [
    "from docx import Document\n",
    "\n",
    "# Create a new Document object\n",
    "doc = Document()\n",
    "\n",
    "# Add various levels of headings\n",
    "doc.add_heading('Heading 1', level=1)\n",
    "doc.add_heading('Heading 2', level=2)\n",
    "doc.add_heading('Heading 3', level=3)\n",
    "doc.add_heading('Heading 4', level=4)\n",
    "doc.add_heading('Heading 5', level=5)\n",
    "doc.add_heading('Heading 6', level=6)\n",
    "doc.add_heading('Heading 7', level=7)\n",
    "doc.add_heading('Heading 8', level=8)\n",
    "doc.add_heading('Heading 9', level=9)\n",
    "\n",
    "\n",
    "# Save the document to a file\n",
    "doc.save('headings_example.docx')"
   ]
  },
  {
   "cell_type": "markdown",
   "id": "c40e4375",
   "metadata": {},
   "source": [
    "In this example:\n",
    "\n",
    "- level=1 creates a Heading 1.\n",
    "- level=2 creates a Heading 2.\n",
    "- level=3 creates a Heading 3.\n",
    "- level=4 creates a Heading 4.\n",
    "- level=5 creates a Heading 5.\n",
    "- level=6 creates a Heading 6.\n",
    "- level=7 creates a Heading 7.\n",
    "- level=8 creates a Heading 8.\n",
    "- level=9 creates a Heading 9."
   ]
  },
  {
   "cell_type": "code",
   "execution_count": null,
   "id": "85cf74be",
   "metadata": {},
   "outputs": [],
   "source": []
  }
 ],
 "metadata": {
  "kernelspec": {
   "display_name": "Python 3 (ipykernel)",
   "language": "python",
   "name": "python3"
  },
  "language_info": {
   "codemirror_mode": {
    "name": "ipython",
    "version": 3
   },
   "file_extension": ".py",
   "mimetype": "text/x-python",
   "name": "python",
   "nbconvert_exporter": "python",
   "pygments_lexer": "ipython3",
   "version": "3.9.13"
  }
 },
 "nbformat": 4,
 "nbformat_minor": 5
}
