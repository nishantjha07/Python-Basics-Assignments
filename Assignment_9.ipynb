{
 "cells": [
  {
   "cell_type": "markdown",
   "id": "df633aff",
   "metadata": {},
   "source": [
    "### Q1. To what does a relative path refer?"
   ]
  },
  {
   "cell_type": "markdown",
   "id": "89ae9d67",
   "metadata": {},
   "source": [
    "### Ans1. \n",
    "A relative path refers to a file or directory location relative to the current directory. It does not begin with the root directory, but instead, it is based on the current working directory."
   ]
  },
  {
   "cell_type": "markdown",
   "id": "579467e8",
   "metadata": {},
   "source": [
    "### Q2. What does an absolute path start with your operating system?"
   ]
  },
  {
   "cell_type": "markdown",
   "id": "dee81e6e",
   "metadata": {},
   "source": [
    "### Ans2. \n",
    "An absolute path starts with the root directory. In Windows, it typically begins with a drive letter followed by a colon and a backslash (e.g., C:\\)."
   ]
  },
  {
   "cell_type": "markdown",
   "id": "50fe15d2",
   "metadata": {},
   "source": [
    "### Q3. What do the functions os.getcwd() and os.chdir() do?"
   ]
  },
  {
   "cell_type": "markdown",
   "id": "7a78f1a0",
   "metadata": {},
   "source": [
    "### Ans3. \n",
    "- os.getcwd(): This function returns the current working directory of a process.\n",
    "\n",
    "- os.chdir(path): This function changes the current working directory to the path specified."
   ]
  },
  {
   "cell_type": "markdown",
   "id": "63df4a27",
   "metadata": {},
   "source": [
    "### Q4. What are the . and .. folders?"
   ]
  },
  {
   "cell_type": "markdown",
   "id": "67e36290",
   "metadata": {},
   "source": [
    "### Ans4. \n",
    "- The '.' folder represents the current directory.\n",
    "\n",
    "- The '..' folder represents the parent directory, i.e., the directory one level up in the hierarchy."
   ]
  },
  {
   "cell_type": "markdown",
   "id": "54ea59d7",
   "metadata": {},
   "source": [
    "### Q5. In C:\\bacon\\eggs\\spam.txt, which part is the dir name, and which part is the base name?"
   ]
  },
  {
   "cell_type": "markdown",
   "id": "a758bcb4",
   "metadata": {},
   "source": [
    "### Ans5. \n",
    "In the path C:\\bacon\\eggs\\spam.txt:\n",
    "\n",
    "C:\\bacon\\eggs\\ is the directory name.\n",
    "\n",
    "spam.txt is the base name."
   ]
  },
  {
   "cell_type": "markdown",
   "id": "43f0a2f8",
   "metadata": {},
   "source": [
    "### Q6. What are the three “mode” arguments that can be passed to the open() function?"
   ]
  },
  {
   "cell_type": "markdown",
   "id": "c9b09834",
   "metadata": {},
   "source": [
    "### Ans6. \n",
    "The three common “mode” arguments are:\n",
    "\n",
    "- 'r': Opens a file for reading (default mode).\n",
    "\n",
    "- 'w': Opens a file for writing (creates a new file or truncates an existing file).\n",
    "\n",
    "- 'a': Opens a file for appending (writes data to the end of the file)."
   ]
  },
  {
   "cell_type": "markdown",
   "id": "683db6ad",
   "metadata": {},
   "source": [
    "### Q7. What happens if an existing file is opened in write mode?"
   ]
  },
  {
   "cell_type": "markdown",
   "id": "9e77b112",
   "metadata": {},
   "source": [
    "### Ans7. \n",
    "If an existing file is opened in write mode ('w'), the file is truncated to zero length, meaning all its content is deleted."
   ]
  },
  {
   "cell_type": "markdown",
   "id": "51e462ee",
   "metadata": {},
   "source": [
    "### Q8. How do you tell the difference between read() and readlines()?"
   ]
  },
  {
   "cell_type": "markdown",
   "id": "a37d7c15",
   "metadata": {},
   "source": [
    "### Ans8. \n",
    "- read(): This function reads the entire file and returns it as a single string.\n",
    "\n",
    "- readlines(): This function reads the entire file and returns a list of strings, where each string represents a line in the file."
   ]
  },
  {
   "cell_type": "markdown",
   "id": "6d460e10",
   "metadata": {},
   "source": [
    "### Q9. What data structure does a shelf value resemble?"
   ]
  },
  {
   "cell_type": "markdown",
   "id": "bc3176d6",
   "metadata": {},
   "source": [
    "### Ans9. \n",
    "A shelf value resembles a dictionary. It allows you to store key-value pairs persistently in a file.\n",
    "\n",
    "- shelf['key'] = value to store a value.\n",
    "\n",
    "- value = shelf['key'] to retrieve a value.\n",
    "\n",
    "- del shelf['key'] to delete a key-value pair."
   ]
  }
 ],
 "metadata": {
  "kernelspec": {
   "display_name": "Python 3 (ipykernel)",
   "language": "python",
   "name": "python3"
  },
  "language_info": {
   "codemirror_mode": {
    "name": "ipython",
    "version": 3
   },
   "file_extension": ".py",
   "mimetype": "text/x-python",
   "name": "python",
   "nbconvert_exporter": "python",
   "pygments_lexer": "ipython3",
   "version": "3.9.13"
  }
 },
 "nbformat": 4,
 "nbformat_minor": 5
}
